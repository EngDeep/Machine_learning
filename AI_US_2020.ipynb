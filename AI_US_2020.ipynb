{
 "cells": [
  {
   "cell_type": "markdown",
   "metadata": {},
   "source": [
    "### Variables "
   ]
  },
  {
   "cell_type": "code",
   "execution_count": 1,
   "metadata": {},
   "outputs": [],
   "source": [
    "a = 5\n",
    "b = 3.14\n",
    "c = 'apple'\n",
    "d = True"
   ]
  },
  {
   "cell_type": "markdown",
   "metadata": {},
   "source": [
    "### datatype check"
   ]
  },
  {
   "cell_type": "code",
   "execution_count": 2,
   "metadata": {},
   "outputs": [
    {
     "name": "stdout",
     "output_type": "stream",
     "text": [
      "<class 'int'>\n",
      "<class 'float'>\n",
      "<class 'str'>\n",
      "<class 'bool'>\n"
     ]
    }
   ],
   "source": [
    "print(type(a))\n",
    "print(type(b))\n",
    "print(type(c))\n",
    "print(type(d))"
   ]
  },
  {
   "cell_type": "markdown",
   "metadata": {},
   "source": [
    "### type"
   ]
  },
  {
   "cell_type": "code",
   "execution_count": 3,
   "metadata": {},
   "outputs": [
    {
     "name": "stdout",
     "output_type": "stream",
     "text": [
      "5\n",
      "<class 'str'>\n"
     ]
    }
   ],
   "source": [
    "print(str(a))\n",
    "print(type(str(a)))"
   ]
  },
  {
   "cell_type": "markdown",
   "metadata": {},
   "source": [
    "### print function"
   ]
  },
  {
   "cell_type": "code",
   "execution_count": 4,
   "metadata": {},
   "outputs": [
    {
     "name": "stdout",
     "output_type": "stream",
     "text": [
      "5\n"
     ]
    }
   ],
   "source": [
    "print(a)"
   ]
  },
  {
   "cell_type": "code",
   "execution_count": 5,
   "metadata": {},
   "outputs": [
    {
     "name": "stdout",
     "output_type": "stream",
     "text": [
      "1234\n"
     ]
    }
   ],
   "source": [
    "print(1234)"
   ]
  },
  {
   "cell_type": "code",
   "execution_count": 6,
   "metadata": {},
   "outputs": [
    {
     "name": "stdout",
     "output_type": "stream",
     "text": [
      "Hello world!!!\n"
     ]
    }
   ],
   "source": [
    "print(\"Hello world!!!\")"
   ]
  },
  {
   "cell_type": "code",
   "execution_count": 7,
   "metadata": {},
   "outputs": [],
   "source": [
    "# hello apple\n",
    "# hello 5 "
   ]
  },
  {
   "cell_type": "code",
   "execution_count": 14,
   "metadata": {},
   "outputs": [
    {
     "name": "stdout",
     "output_type": "stream",
     "text": [
      "hello apple\n",
      "hello 5\n",
      "\n",
      "hello apple\n",
      "hello 5\n",
      "\n",
      "hello apple\n",
      "hello 5\n",
      "\n",
      "hello apple\n",
      "hello 5\n"
     ]
    }
   ],
   "source": [
    "# method-1\n",
    "print(\"hello\",c)\n",
    "print(\"hello\",a)\n",
    "print()\n",
    "\n",
    "# method-2\n",
    "print(\"hello \"+c)\n",
    "print(\"hello \"+str(a))\n",
    "print()\n",
    "\n",
    "# method-3\n",
    "print(\"hello %s\"%c)\n",
    "print(\"hello %d\"%a)\n",
    "print()\n",
    "\n",
    "# method-4\n",
    "print(\"hello {}\".format(c))\n",
    "print(f\"hello {a}\")"
   ]
  },
  {
   "cell_type": "markdown",
   "metadata": {},
   "source": [
    "### input function"
   ]
  },
  {
   "cell_type": "code",
   "execution_count": 17,
   "metadata": {},
   "outputs": [
    {
     "name": "stdout",
     "output_type": "stream",
     "text": [
      "Enter your name : abc\n"
     ]
    }
   ],
   "source": [
    "name = input('Enter your name : ')"
   ]
  },
  {
   "cell_type": "code",
   "execution_count": 25,
   "metadata": {},
   "outputs": [
    {
     "name": "stdout",
     "output_type": "stream",
     "text": [
      "Enter any number: 25\n"
     ]
    }
   ],
   "source": [
    "num = float(input('Enter any number: '))"
   ]
  },
  {
   "cell_type": "code",
   "execution_count": 23,
   "metadata": {},
   "outputs": [
    {
     "name": "stdout",
     "output_type": "stream",
     "text": [
      "<class 'str'> <class 'float'>\n"
     ]
    }
   ],
   "source": [
    "print(type(name),type(num))"
   ]
  },
  {
   "cell_type": "markdown",
   "metadata": {},
   "source": [
    "### operators"
   ]
  },
  {
   "cell_type": "code",
   "execution_count": 28,
   "metadata": {},
   "outputs": [
    {
     "name": "stdout",
     "output_type": "stream",
     "text": [
      "7\n",
      "3\n",
      "10\n",
      "2.5\n",
      "1\n",
      "2\n",
      "25\n"
     ]
    }
   ],
   "source": [
    "# + - * / % // **\n",
    "\n",
    "print(5+2)\n",
    "print(5-2)\n",
    "print(5*2)\n",
    "print(5/2)\n",
    "print(5%2)\n",
    "print(5//2)\n",
    "print(5**2)"
   ]
  },
  {
   "cell_type": "code",
   "execution_count": 29,
   "metadata": {},
   "outputs": [
    {
     "name": "stdout",
     "output_type": "stream",
     "text": [
      "True\n",
      "True\n",
      "False\n",
      "False\n",
      "False\n",
      "True\n"
     ]
    }
   ],
   "source": [
    "# < > <= >= == !=\n",
    "\n",
    "print(5 > 2)\n",
    "print(5 >= 2)\n",
    "print(5 < 2)\n",
    "print(5 <= 2)\n",
    "print(5 == 2)\n",
    "print(5 != 2)"
   ]
  },
  {
   "cell_type": "code",
   "execution_count": 32,
   "metadata": {},
   "outputs": [
    {
     "name": "stdout",
     "output_type": "stream",
     "text": [
      "True\n",
      "False\n",
      "True\n",
      "True\n",
      "False\n"
     ]
    }
   ],
   "source": [
    "# and, or, not\n",
    "a = 5\n",
    "b = 7\n",
    "\n",
    "print(a < 10 and b < 15)\n",
    "print(a < 10 and b < 5)\n",
    "\n",
    "print(a < 10 or b < 15)\n",
    "print(a < 10 or b < 5)\n",
    "print(a < 5 or b < 5)\n"
   ]
  },
  {
   "cell_type": "code",
   "execution_count": 33,
   "metadata": {},
   "outputs": [
    {
     "name": "stdout",
     "output_type": "stream",
     "text": [
      "True\n"
     ]
    }
   ],
   "source": [
    "a = None\n",
    "print(not a)"
   ]
  },
  {
   "cell_type": "code",
   "execution_count": 34,
   "metadata": {},
   "outputs": [
    {
     "name": "stdout",
     "output_type": "stream",
     "text": [
      "False\n"
     ]
    }
   ],
   "source": [
    "a = 5\n",
    "print(not a)"
   ]
  },
  {
   "cell_type": "markdown",
   "metadata": {},
   "source": [
    "### task-1"
   ]
  },
  {
   "cell_type": "code",
   "execution_count": 39,
   "metadata": {},
   "outputs": [
    {
     "name": "stdout",
     "output_type": "stream",
     "text": [
      "615\n",
      "615\n"
     ]
    }
   ],
   "source": [
    "n = '5'\n",
    "print(int(n*3)+int(n*2)+int(n))\n",
    "print(int(n+n+n)+int(n+n)+int(n))"
   ]
  },
  {
   "cell_type": "markdown",
   "metadata": {},
   "source": [
    "### if case"
   ]
  },
  {
   "cell_type": "code",
   "execution_count": 64,
   "metadata": {},
   "outputs": [
    {
     "name": "stdout",
     "output_type": "stream",
     "text": [
      "Enter any number :40\n",
      "even\n"
     ]
    }
   ],
   "source": [
    "num = float(input(\"Enter any number :\"))\n",
    "\n",
    "if num % 2 == 0: \n",
    "    print('even') \n",
    "else:\n",
    "    print('odd')"
   ]
  },
  {
   "cell_type": "code",
   "execution_count": 54,
   "metadata": {},
   "outputs": [],
   "source": [
    "x = True if a> 5 else False "
   ]
  },
  {
   "cell_type": "code",
   "execution_count": 55,
   "metadata": {},
   "outputs": [
    {
     "data": {
      "text/plain": [
       "False"
      ]
     },
     "execution_count": 55,
     "metadata": {},
     "output_type": "execute_result"
    }
   ],
   "source": [
    "x"
   ]
  },
  {
   "cell_type": "code",
   "execution_count": 46,
   "metadata": {},
   "outputs": [
    {
     "name": "stdout",
     "output_type": "stream",
     "text": [
      "Enter any number :10\n",
      "even\n"
     ]
    }
   ],
   "source": [
    "num = float(input(\"Enter any number :\"))\n",
    "\n",
    "if num % 2 == 0:\n",
    "    print('even')\n",
    "    if num % 4 == 0:\n",
    "        print(\"divisible by 4\")\n",
    "else:\n",
    "    print('odd')"
   ]
  },
  {
   "cell_type": "code",
   "execution_count": 44,
   "metadata": {},
   "outputs": [
    {
     "name": "stdout",
     "output_type": "stream",
     "text": [
      "Enter any number :5\n",
      "odd\n"
     ]
    }
   ],
   "source": [
    "num = float(input(\"Enter any number :\"))\n",
    "if num % 4 == 0:\n",
    "    print(\"Divisible by 4 and even\")\n",
    "elif num % 2 == 0:\n",
    "    print('even')\n",
    "else:\n",
    "    print('odd')"
   ]
  },
  {
   "cell_type": "code",
   "execution_count": 49,
   "metadata": {},
   "outputs": [
    {
     "name": "stdout",
     "output_type": "stream",
     "text": [
      "Enter any number :10\n"
     ]
    }
   ],
   "source": [
    "num = float(input(\"Enter any number :\"))\n",
    "if (num % 2 == 0)and (num % 4 == 0):\n",
    "    print('Divisible by 4 and even')"
   ]
  },
  {
   "cell_type": "markdown",
   "metadata": {},
   "source": [
    "### HW task"
   ]
  },
  {
   "cell_type": "markdown",
   "metadata": {},
   "source": [
    "Write a python for rock paper scissor game using the following rules\n",
    "\n",
    "    rock beats scissor\n",
    "    scissor beats paper\n",
    "    paper beats rock"
   ]
  },
  {
   "cell_type": "markdown",
   "metadata": {},
   "source": [
    "### while loop"
   ]
  },
  {
   "cell_type": "code",
   "execution_count": 61,
   "metadata": {},
   "outputs": [
    {
     "name": "stdout",
     "output_type": "stream",
     "text": [
      "Enter any number :32\n",
      "Divisible by 4 and even\n",
      "Enter any number :14\n",
      "even\n",
      "Enter any number :18\n",
      "even\n",
      "It's done\n"
     ]
    }
   ],
   "source": [
    "i = 0\n",
    "while i < 3 :\n",
    "    num = float(input(\"Enter any number :\"))\n",
    "    if num % 4 == 0:\n",
    "        print(\"Divisible by 4 and even\")\n",
    "    elif num % 2 == 0:\n",
    "        print('even')\n",
    "    else:\n",
    "        print('odd')\n",
    "    \n",
    "    i += 1 # i = i+1\n",
    "else:\n",
    "    print(\"It's done\")"
   ]
  },
  {
   "cell_type": "code",
   "execution_count": 63,
   "metadata": {},
   "outputs": [
    {
     "name": "stdout",
     "output_type": "stream",
     "text": [
      "Enter any number :48\n",
      "Divisible by 4 and even\n",
      "Do you want to continue? y/n: n\n",
      "It's done\n"
     ]
    }
   ],
   "source": [
    "user = 'y'\n",
    "while user == 'y' :\n",
    "    num = float(input(\"Enter any number :\"))\n",
    "    if num % 4 == 0:\n",
    "        print(\"Divisible by 4 and even\")\n",
    "    elif num % 2 == 0:\n",
    "        print('even')\n",
    "    else:\n",
    "        print('odd')\n",
    "    \n",
    "    user = input('Do you want to continue? y/n: ')\n",
    "else:\n",
    "    print(\"It's done\")"
   ]
  },
  {
   "cell_type": "code",
   "execution_count": 60,
   "metadata": {},
   "outputs": [
    {
     "name": "stdout",
     "output_type": "stream",
     "text": [
      "Enter any number :20\n",
      "Divisible by 4 and even\n",
      "Enter any number :14\n",
      "even\n",
      "Enter any number :15\n",
      "Skipping....\n",
      "Enter any number :18\n",
      "even\n",
      "Enter any number :25\n",
      "Stopping....\n",
      "hello\n"
     ]
    }
   ],
   "source": [
    "while True:\n",
    "    num = float(input(\"Enter any number :\"))\n",
    "    \n",
    "    if num == 25:\n",
    "        print(\"Stopping....\")\n",
    "        break\n",
    "    elif num == 15:\n",
    "        print(\"Skipping....\")\n",
    "        continue\n",
    "    \n",
    "    if num % 4 == 0:\n",
    "        print(\"Divisible by 4 and even\")\n",
    "    elif num % 2 == 0:\n",
    "        print('even')\n",
    "    else:\n",
    "        print('odd')\n",
    "print('hello')"
   ]
  },
  {
   "cell_type": "markdown",
   "metadata": {},
   "source": [
    "### Rock Paper Scissor Game - solution"
   ]
  },
  {
   "cell_type": "code",
   "execution_count": null,
   "metadata": {},
   "outputs": [],
   "source": [
    "## Rock Paper Scissor Game\n",
    "\n",
    "readytoplay = input(\"Press Y/N to Start/Stop:\")\n",
    "while readytoplay == 'Y' :\n",
    "    player1 = input(\"Enter choice for Player 1(rock,paper,scissor):\") \n",
    "    player2 = input(\"Enter choice for Player 2(rock,paper,scissor):\")\n",
    "    if ((player1.upper() == 'SCISSOR') and (player2.upper() == 'PAPER')) or ((player1.upper() == 'PAPER') and (player2.upper() == 'SCISSOR'))  :\n",
    "        print(\"scissor beats paper\")\n",
    "    elif ((player1.upper() == 'SCISSOR') and (player2.upper() == 'ROCK')) or ((player1.upper() == 'ROCK') and (player2.upper() == 'SCISSOR'))  :\n",
    "         print(\"rock beats scissor\")\n",
    "    elif ((player1.upper() == 'PAPER') and (player2.upper() == 'ROCK')) or ((player1.upper() == 'ROCK') and (player2.upper() == 'PAPER'))  :\n",
    "         print(\"paper beats rock\")\n",
    "    else:\n",
    "        print(\"wrong input\")\n",
    "    readytoplay = input(\"Do you want to continue Y/N:\")\n",
    "else:\n",
    "    print(\"Game Over\")"
   ]
  },
  {
   "cell_type": "code",
   "execution_count": null,
   "metadata": {},
   "outputs": [],
   "source": [
    "print(\"Rock Paper Scissors Game: \")\n",
    "option = 'y'\n",
    "p1 = input(\"Enter Player 1 Name: \")\n",
    "p2 = input(\"Enter Player 2 Name: \")\n",
    "print()\n",
    "print(\"Welcome to Game Center - \" + p1 + \" & \" + p2)\n",
    "while True:\n",
    "    if option == 'y':\n",
    "        p1s = input(\"Enter {}'s option: Rock/Paper/Scissor  : \".format(p1))\n",
    "        if p1s not in [\"Rock\",\"Paper\",\"Scissor\"]:\n",
    "            print()\n",
    "            print(\"{}'s - is not a valid option\".format(p1s))\n",
    "            continue \n",
    "        p2s = input(\"Enter \" + p2 + \" option: Rock/Paper/Scissor  : \")\n",
    "        if p2s not in [\"Rock\",\"Paper\",\"Scissor\"]:\n",
    "            print()\n",
    "            print(\"{} - is not a valid option\".format(p2s))\n",
    "            continue \n",
    "        print()\n",
    "        if (p1s == p2s):\n",
    "            print(\"It is a tie!!\")\n",
    "        elif ((p1s== \"Rock\" and p2s == \"Paper\") or \n",
    "            (p1s== \"Paper\" and p2s == \"Scissor\") or \n",
    "            (p1s== \"Scissor\" and p2s == \"Rock\")):\n",
    "                print(\"Option: \" + p2s + \"- Player \"+ p2 + \" is winner!!\")\n",
    "        else: \n",
    "            print(\"Option: \" + p1s + \"- Player \"+ p1 + \" is winner!!\")\n",
    "        option = input (\"Do you want to continue: y/n \")    \n",
    "    else:\n",
    "        print()\n",
    "        print(\"Exiting Game..Bye!!!\")\n",
    "        break"
   ]
  },
  {
   "cell_type": "markdown",
   "metadata": {},
   "source": [
    "### string"
   ]
  },
  {
   "cell_type": "code",
   "execution_count": 65,
   "metadata": {},
   "outputs": [],
   "source": [
    "name = 'elephant'\n",
    "sent = 'elephant is an animal'"
   ]
  },
  {
   "cell_type": "code",
   "execution_count": 66,
   "metadata": {},
   "outputs": [
    {
     "data": {
      "text/plain": [
       "('p', 'p')"
      ]
     },
     "execution_count": 66,
     "metadata": {},
     "output_type": "execute_result"
    }
   ],
   "source": [
    "name[3],name[-5]"
   ]
  },
  {
   "cell_type": "code",
   "execution_count": 67,
   "metadata": {},
   "outputs": [
    {
     "data": {
      "text/plain": [
       "'phant'"
      ]
     },
     "execution_count": 67,
     "metadata": {},
     "output_type": "execute_result"
    }
   ],
   "source": [
    "name[3:]"
   ]
  },
  {
   "cell_type": "code",
   "execution_count": 68,
   "metadata": {},
   "outputs": [
    {
     "data": {
      "text/plain": [
       "'ele'"
      ]
     },
     "execution_count": 68,
     "metadata": {},
     "output_type": "execute_result"
    }
   ],
   "source": [
    "name[:3]"
   ]
  },
  {
   "cell_type": "code",
   "execution_count": 69,
   "metadata": {},
   "outputs": [
    {
     "data": {
      "text/plain": [
       "'epha'"
      ]
     },
     "execution_count": 69,
     "metadata": {},
     "output_type": "execute_result"
    }
   ],
   "source": [
    "name[2:6]"
   ]
  },
  {
   "cell_type": "code",
   "execution_count": 70,
   "metadata": {},
   "outputs": [
    {
     "data": {
      "text/plain": [
       "'eh'"
      ]
     },
     "execution_count": 70,
     "metadata": {},
     "output_type": "execute_result"
    }
   ],
   "source": [
    "name[2:6:2]"
   ]
  },
  {
   "cell_type": "code",
   "execution_count": 71,
   "metadata": {},
   "outputs": [
    {
     "data": {
      "text/plain": [
       "'tnahpele'"
      ]
     },
     "execution_count": 71,
     "metadata": {},
     "output_type": "execute_result"
    }
   ],
   "source": [
    "name[::-1]"
   ]
  },
  {
   "cell_type": "code",
   "execution_count": 72,
   "metadata": {},
   "outputs": [
    {
     "data": {
      "text/plain": [
       "'ant'"
      ]
     },
     "execution_count": 72,
     "metadata": {},
     "output_type": "execute_result"
    }
   ],
   "source": [
    "name[-3:]"
   ]
  },
  {
   "cell_type": "code",
   "execution_count": 73,
   "metadata": {},
   "outputs": [
    {
     "data": {
      "text/plain": [
       "'Elephant'"
      ]
     },
     "execution_count": 73,
     "metadata": {},
     "output_type": "execute_result"
    }
   ],
   "source": [
    "name.capitalize()"
   ]
  },
  {
   "cell_type": "code",
   "execution_count": 74,
   "metadata": {},
   "outputs": [
    {
     "data": {
      "text/plain": [
       "'Elephant Is An Animal'"
      ]
     },
     "execution_count": 74,
     "metadata": {},
     "output_type": "execute_result"
    }
   ],
   "source": [
    "sent.title()"
   ]
  },
  {
   "cell_type": "code",
   "execution_count": 75,
   "metadata": {},
   "outputs": [
    {
     "data": {
      "text/plain": [
       "'ELEPHANT'"
      ]
     },
     "execution_count": 75,
     "metadata": {},
     "output_type": "execute_result"
    }
   ],
   "source": [
    "name.upper()"
   ]
  },
  {
   "cell_type": "code",
   "execution_count": 76,
   "metadata": {},
   "outputs": [
    {
     "data": {
      "text/plain": [
       "'elephant'"
      ]
     },
     "execution_count": 76,
     "metadata": {},
     "output_type": "execute_result"
    }
   ],
   "source": [
    "name.lower()"
   ]
  },
  {
   "cell_type": "code",
   "execution_count": 77,
   "metadata": {},
   "outputs": [
    {
     "data": {
      "text/plain": [
       "'NAme'"
      ]
     },
     "execution_count": 77,
     "metadata": {},
     "output_type": "execute_result"
    }
   ],
   "source": [
    "\"naME\".swapcase()"
   ]
  },
  {
   "cell_type": "code",
   "execution_count": 78,
   "metadata": {},
   "outputs": [
    {
     "data": {
      "text/plain": [
       "8"
      ]
     },
     "execution_count": 78,
     "metadata": {},
     "output_type": "execute_result"
    }
   ],
   "source": [
    "len(name)"
   ]
  },
  {
   "cell_type": "code",
   "execution_count": 79,
   "metadata": {},
   "outputs": [
    {
     "data": {
      "text/plain": [
       "'~~~~~~~~~elephant~~~~~~~~'"
      ]
     },
     "execution_count": 79,
     "metadata": {},
     "output_type": "execute_result"
    }
   ],
   "source": [
    "name.center(25,'~')"
   ]
  },
  {
   "cell_type": "code",
   "execution_count": 80,
   "metadata": {},
   "outputs": [
    {
     "data": {
      "text/plain": [
       "'0000000elephant'"
      ]
     },
     "execution_count": 80,
     "metadata": {},
     "output_type": "execute_result"
    }
   ],
   "source": [
    "name.zfill(15)"
   ]
  },
  {
   "cell_type": "code",
   "execution_count": 81,
   "metadata": {},
   "outputs": [
    {
     "data": {
      "text/plain": [
       "2"
      ]
     },
     "execution_count": 81,
     "metadata": {},
     "output_type": "execute_result"
    }
   ],
   "source": [
    "name.count('e')"
   ]
  },
  {
   "cell_type": "code",
   "execution_count": 83,
   "metadata": {},
   "outputs": [
    {
     "data": {
      "text/plain": [
       "'elephant'"
      ]
     },
     "execution_count": 83,
     "metadata": {},
     "output_type": "execute_result"
    }
   ],
   "source": [
    "name.encode('utf-16').decode('utf-16')"
   ]
  },
  {
   "cell_type": "code",
   "execution_count": 85,
   "metadata": {},
   "outputs": [
    {
     "data": {
      "text/plain": [
       "False"
      ]
     },
     "execution_count": 85,
     "metadata": {},
     "output_type": "execute_result"
    }
   ],
   "source": [
    "name.endswith('nT')"
   ]
  },
  {
   "cell_type": "code",
   "execution_count": 86,
   "metadata": {},
   "outputs": [
    {
     "data": {
      "text/plain": [
       "True"
      ]
     },
     "execution_count": 86,
     "metadata": {},
     "output_type": "execute_result"
    }
   ],
   "source": [
    "name.startswith(\"el\")"
   ]
  },
  {
   "cell_type": "code",
   "execution_count": 87,
   "metadata": {},
   "outputs": [
    {
     "data": {
      "text/plain": [
       "(0, 0)"
      ]
     },
     "execution_count": 87,
     "metadata": {},
     "output_type": "execute_result"
    }
   ],
   "source": [
    "name.index('e'),name.find('e')"
   ]
  },
  {
   "cell_type": "code",
   "execution_count": 88,
   "metadata": {},
   "outputs": [
    {
     "ename": "ValueError",
     "evalue": "substring not found",
     "output_type": "error",
     "traceback": [
      "\u001b[0;31m---------------------------------------------------------------------------\u001b[0m",
      "\u001b[0;31mValueError\u001b[0m                                Traceback (most recent call last)",
      "\u001b[0;32m<ipython-input-88-2f291c2687d2>\u001b[0m in \u001b[0;36m<module>\u001b[0;34m\u001b[0m\n\u001b[0;32m----> 1\u001b[0;31m \u001b[0mname\u001b[0m\u001b[0;34m.\u001b[0m\u001b[0mindex\u001b[0m\u001b[0;34m(\u001b[0m\u001b[0;34m'x'\u001b[0m\u001b[0;34m)\u001b[0m\u001b[0;34m\u001b[0m\u001b[0;34m\u001b[0m\u001b[0m\n\u001b[0m",
      "\u001b[0;31mValueError\u001b[0m: substring not found"
     ]
    }
   ],
   "source": [
    "name.index('x')"
   ]
  },
  {
   "cell_type": "code",
   "execution_count": 89,
   "metadata": {},
   "outputs": [
    {
     "data": {
      "text/plain": [
       "-1"
      ]
     },
     "execution_count": 89,
     "metadata": {},
     "output_type": "execute_result"
    }
   ],
   "source": [
    "name.find('x')"
   ]
  },
  {
   "cell_type": "code",
   "execution_count": 91,
   "metadata": {},
   "outputs": [
    {
     "data": {
      "text/plain": [
       "'name is the dummy text'"
      ]
     },
     "execution_count": 91,
     "metadata": {},
     "output_type": "execute_result"
    }
   ],
   "source": [
    "'name is the\\tdummy\\ttext'.expandtabs(2)"
   ]
  },
  {
   "cell_type": "code",
   "execution_count": 92,
   "metadata": {},
   "outputs": [
    {
     "data": {
      "text/plain": [
       "'eYephant'"
      ]
     },
     "execution_count": 92,
     "metadata": {},
     "output_type": "execute_result"
    }
   ],
   "source": [
    "name.replace('l','Y')"
   ]
  },
  {
   "cell_type": "code",
   "execution_count": 93,
   "metadata": {},
   "outputs": [
    {
     "data": {
      "text/plain": [
       "['elephant', 'is', 'an', 'animal']"
      ]
     },
     "execution_count": 93,
     "metadata": {},
     "output_type": "execute_result"
    }
   ],
   "source": [
    "sent.split()"
   ]
  },
  {
   "cell_type": "code",
   "execution_count": 94,
   "metadata": {},
   "outputs": [
    {
     "data": {
      "text/plain": [
       "['eleph', 't is ', ' ', 'imal']"
      ]
     },
     "execution_count": 94,
     "metadata": {},
     "output_type": "execute_result"
    }
   ],
   "source": [
    "sent.split('an')"
   ]
  },
  {
   "cell_type": "code",
   "execution_count": 95,
   "metadata": {},
   "outputs": [
    {
     "data": {
      "text/plain": [
       "'elephant is an animal'"
      ]
     },
     "execution_count": 95,
     "metadata": {},
     "output_type": "execute_result"
    }
   ],
   "source": [
    "temp = sent.split('an')\n",
    "'an'.join(temp)"
   ]
  },
  {
   "cell_type": "code",
   "execution_count": 96,
   "metadata": {},
   "outputs": [
    {
     "data": {
      "text/plain": [
       "('eleph', 'an', 't is an animal')"
      ]
     },
     "execution_count": 96,
     "metadata": {},
     "output_type": "execute_result"
    }
   ],
   "source": [
    "sent.partition('an')"
   ]
  },
  {
   "cell_type": "code",
   "execution_count": 97,
   "metadata": {},
   "outputs": [
    {
     "data": {
      "text/plain": [
       "('elephant is an ', 'an', 'imal')"
      ]
     },
     "execution_count": 97,
     "metadata": {},
     "output_type": "execute_result"
    }
   ],
   "source": [
    "sent.rpartition('an')"
   ]
  },
  {
   "cell_type": "code",
   "execution_count": 98,
   "metadata": {},
   "outputs": [
    {
     "data": {
      "text/plain": [
       "'elephant '"
      ]
     },
     "execution_count": 98,
     "metadata": {},
     "output_type": "execute_result"
    }
   ],
   "source": [
    "' elephant '.lstrip()"
   ]
  },
  {
   "cell_type": "code",
   "execution_count": 99,
   "metadata": {},
   "outputs": [
    {
     "data": {
      "text/plain": [
       "' elephant'"
      ]
     },
     "execution_count": 99,
     "metadata": {},
     "output_type": "execute_result"
    }
   ],
   "source": [
    "' elephant '.rstrip()"
   ]
  },
  {
   "cell_type": "code",
   "execution_count": 100,
   "metadata": {},
   "outputs": [
    {
     "data": {
      "text/plain": [
       "'elephant'"
      ]
     },
     "execution_count": 100,
     "metadata": {},
     "output_type": "execute_result"
    }
   ],
   "source": [
    "' elephant '.strip()"
   ]
  },
  {
   "cell_type": "code",
   "execution_count": 101,
   "metadata": {},
   "outputs": [
    {
     "data": {
      "text/plain": [
       "'elepha'"
      ]
     },
     "execution_count": 101,
     "metadata": {},
     "output_type": "execute_result"
    }
   ],
   "source": [
    "name.strip(\"nt\")"
   ]
  },
  {
   "cell_type": "code",
   "execution_count": 103,
   "metadata": {},
   "outputs": [
    {
     "data": {
      "text/plain": [
       "True"
      ]
     },
     "execution_count": 103,
     "metadata": {},
     "output_type": "execute_result"
    }
   ],
   "source": [
    "name.isalnum()\n",
    "name.isalpha()"
   ]
  },
  {
   "cell_type": "code",
   "execution_count": 104,
   "metadata": {},
   "outputs": [
    {
     "data": {
      "text/plain": [
       "True"
      ]
     },
     "execution_count": 104,
     "metadata": {},
     "output_type": "execute_result"
    }
   ],
   "source": [
    "name.isprintable()"
   ]
  },
  {
   "cell_type": "code",
   "execution_count": 105,
   "metadata": {},
   "outputs": [
    {
     "data": {
      "text/plain": [
       "False"
      ]
     },
     "execution_count": 105,
     "metadata": {},
     "output_type": "execute_result"
    }
   ],
   "source": [
    "\"\\t\\%\".isprintable()"
   ]
  },
  {
   "cell_type": "code",
   "execution_count": 106,
   "metadata": {},
   "outputs": [
    {
     "data": {
      "text/plain": [
       "True"
      ]
     },
     "execution_count": 106,
     "metadata": {},
     "output_type": "execute_result"
    }
   ],
   "source": [
    "\" \".isspace()"
   ]
  },
  {
   "cell_type": "markdown",
   "metadata": {},
   "source": [
    "### list"
   ]
  },
  {
   "cell_type": "code",
   "execution_count": 107,
   "metadata": {},
   "outputs": [],
   "source": [
    "L = [] # list()"
   ]
  },
  {
   "cell_type": "code",
   "execution_count": 108,
   "metadata": {},
   "outputs": [],
   "source": [
    "l = ['apple','mango','orange',1,2,3]"
   ]
  },
  {
   "cell_type": "code",
   "execution_count": 110,
   "metadata": {},
   "outputs": [],
   "source": [
    "l[5] = 34"
   ]
  },
  {
   "cell_type": "code",
   "execution_count": 111,
   "metadata": {},
   "outputs": [
    {
     "data": {
      "text/plain": [
       "['apple', 'mango', 'orange', 1, 2, 34]"
      ]
     },
     "execution_count": 111,
     "metadata": {},
     "output_type": "execute_result"
    }
   ],
   "source": [
    "l"
   ]
  },
  {
   "cell_type": "code",
   "execution_count": 112,
   "metadata": {},
   "outputs": [],
   "source": [
    "del l[5]"
   ]
  },
  {
   "cell_type": "code",
   "execution_count": 113,
   "metadata": {},
   "outputs": [
    {
     "data": {
      "text/plain": [
       "['apple', 'mango', 'orange', 1, 2]"
      ]
     },
     "execution_count": 113,
     "metadata": {},
     "output_type": "execute_result"
    }
   ],
   "source": [
    "l"
   ]
  },
  {
   "cell_type": "code",
   "execution_count": 114,
   "metadata": {},
   "outputs": [
    {
     "ename": "IndexError",
     "evalue": "list assignment index out of range",
     "output_type": "error",
     "traceback": [
      "\u001b[0;31m---------------------------------------------------------------------------\u001b[0m",
      "\u001b[0;31mIndexError\u001b[0m                                Traceback (most recent call last)",
      "\u001b[0;32m<ipython-input-114-eef7e14d0392>\u001b[0m in \u001b[0;36m<module>\u001b[0;34m\u001b[0m\n\u001b[0;32m----> 1\u001b[0;31m \u001b[0ml\u001b[0m\u001b[0;34m[\u001b[0m\u001b[0;36m7\u001b[0m\u001b[0;34m]\u001b[0m \u001b[0;34m=\u001b[0m \u001b[0;36m42\u001b[0m\u001b[0;34m\u001b[0m\u001b[0;34m\u001b[0m\u001b[0m\n\u001b[0m",
      "\u001b[0;31mIndexError\u001b[0m: list assignment index out of range"
     ]
    }
   ],
   "source": [
    "l[7] = 42"
   ]
  },
  {
   "cell_type": "code",
   "execution_count": 116,
   "metadata": {},
   "outputs": [],
   "source": [
    "l.append('kiwi')"
   ]
  },
  {
   "cell_type": "code",
   "execution_count": 117,
   "metadata": {},
   "outputs": [
    {
     "data": {
      "text/plain": [
       "['apple', 'mango', 'orange', 1, 2, 'kiwi']"
      ]
     },
     "execution_count": 117,
     "metadata": {},
     "output_type": "execute_result"
    }
   ],
   "source": [
    "l"
   ]
  },
  {
   "cell_type": "code",
   "execution_count": 118,
   "metadata": {},
   "outputs": [],
   "source": [
    "l.insert(3,'papaya')"
   ]
  },
  {
   "cell_type": "code",
   "execution_count": 119,
   "metadata": {},
   "outputs": [
    {
     "data": {
      "text/plain": [
       "['apple', 'mango', 'orange', 'papaya', 1, 2, 'kiwi']"
      ]
     },
     "execution_count": 119,
     "metadata": {},
     "output_type": "execute_result"
    }
   ],
   "source": [
    "l"
   ]
  },
  {
   "cell_type": "code",
   "execution_count": 120,
   "metadata": {},
   "outputs": [],
   "source": [
    "l.remove(2)"
   ]
  },
  {
   "cell_type": "code",
   "execution_count": 123,
   "metadata": {},
   "outputs": [
    {
     "data": {
      "text/plain": [
       "['apple', 'mango', 'orange', 'papaya', 1, 'kiwi', 1]"
      ]
     },
     "execution_count": 123,
     "metadata": {},
     "output_type": "execute_result"
    }
   ],
   "source": [
    "l"
   ]
  },
  {
   "cell_type": "code",
   "execution_count": 124,
   "metadata": {},
   "outputs": [],
   "source": [
    "l.remove(1)"
   ]
  },
  {
   "cell_type": "code",
   "execution_count": 125,
   "metadata": {},
   "outputs": [
    {
     "data": {
      "text/plain": [
       "['apple', 'mango', 'orange', 'papaya', 'kiwi', 1]"
      ]
     },
     "execution_count": 125,
     "metadata": {},
     "output_type": "execute_result"
    }
   ],
   "source": [
    "l"
   ]
  },
  {
   "cell_type": "code",
   "execution_count": 126,
   "metadata": {},
   "outputs": [
    {
     "data": {
      "text/plain": [
       "1"
      ]
     },
     "execution_count": 126,
     "metadata": {},
     "output_type": "execute_result"
    }
   ],
   "source": [
    "l.pop()"
   ]
  },
  {
   "cell_type": "code",
   "execution_count": 127,
   "metadata": {},
   "outputs": [
    {
     "data": {
      "text/plain": [
       "['apple', 'mango', 'orange', 'papaya', 'kiwi']"
      ]
     },
     "execution_count": 127,
     "metadata": {},
     "output_type": "execute_result"
    }
   ],
   "source": [
    "l"
   ]
  },
  {
   "cell_type": "code",
   "execution_count": 128,
   "metadata": {},
   "outputs": [],
   "source": [
    "l.clear()"
   ]
  },
  {
   "cell_type": "code",
   "execution_count": 129,
   "metadata": {},
   "outputs": [
    {
     "data": {
      "text/plain": [
       "[]"
      ]
     },
     "execution_count": 129,
     "metadata": {},
     "output_type": "execute_result"
    }
   ],
   "source": [
    "l "
   ]
  },
  {
   "cell_type": "code",
   "execution_count": 130,
   "metadata": {},
   "outputs": [],
   "source": [
    "l = ['apple', 'mango', 'orange', 'papaya', 'kiwi']"
   ]
  },
  {
   "cell_type": "code",
   "execution_count": 131,
   "metadata": {},
   "outputs": [],
   "source": [
    "g = l"
   ]
  },
  {
   "cell_type": "code",
   "execution_count": 133,
   "metadata": {},
   "outputs": [],
   "source": [
    "g.append(23)"
   ]
  },
  {
   "cell_type": "code",
   "execution_count": 134,
   "metadata": {},
   "outputs": [
    {
     "data": {
      "text/plain": [
       "['apple', 'mango', 'orange', 'papaya', 'kiwi', 23]"
      ]
     },
     "execution_count": 134,
     "metadata": {},
     "output_type": "execute_result"
    }
   ],
   "source": [
    "g"
   ]
  },
  {
   "cell_type": "code",
   "execution_count": 135,
   "metadata": {},
   "outputs": [
    {
     "data": {
      "text/plain": [
       "['apple', 'mango', 'orange', 'papaya', 'kiwi', 23]"
      ]
     },
     "execution_count": 135,
     "metadata": {},
     "output_type": "execute_result"
    }
   ],
   "source": [
    "l"
   ]
  },
  {
   "cell_type": "code",
   "execution_count": 136,
   "metadata": {},
   "outputs": [],
   "source": [
    "f = l.copy()"
   ]
  },
  {
   "cell_type": "code",
   "execution_count": 139,
   "metadata": {},
   "outputs": [
    {
     "data": {
      "text/plain": [
       "23"
      ]
     },
     "execution_count": 139,
     "metadata": {},
     "output_type": "execute_result"
    }
   ],
   "source": [
    "f.pop()"
   ]
  },
  {
   "cell_type": "code",
   "execution_count": 140,
   "metadata": {},
   "outputs": [
    {
     "data": {
      "text/plain": [
       "['apple', 'mango', 'orange', 'papaya', 'kiwi']"
      ]
     },
     "execution_count": 140,
     "metadata": {},
     "output_type": "execute_result"
    }
   ],
   "source": [
    "f"
   ]
  },
  {
   "cell_type": "code",
   "execution_count": 141,
   "metadata": {},
   "outputs": [
    {
     "data": {
      "text/plain": [
       "['apple', 'mango', 'orange', 'papaya', 'kiwi', 23]"
      ]
     },
     "execution_count": 141,
     "metadata": {},
     "output_type": "execute_result"
    }
   ],
   "source": [
    "l"
   ]
  },
  {
   "cell_type": "code",
   "execution_count": 142,
   "metadata": {},
   "outputs": [
    {
     "data": {
      "text/plain": [
       "[23, 'kiwi', 'papaya', 'orange', 'mango', 'apple']"
      ]
     },
     "execution_count": 142,
     "metadata": {},
     "output_type": "execute_result"
    }
   ],
   "source": [
    "l[::-1]"
   ]
  },
  {
   "cell_type": "code",
   "execution_count": 144,
   "metadata": {},
   "outputs": [],
   "source": [
    "l.reverse()"
   ]
  },
  {
   "cell_type": "code",
   "execution_count": 145,
   "metadata": {},
   "outputs": [
    {
     "data": {
      "text/plain": [
       "[23, 'kiwi', 'papaya', 'orange', 'mango', 'apple']"
      ]
     },
     "execution_count": 145,
     "metadata": {},
     "output_type": "execute_result"
    }
   ],
   "source": [
    "l"
   ]
  },
  {
   "cell_type": "code",
   "execution_count": 146,
   "metadata": {},
   "outputs": [
    {
     "ename": "TypeError",
     "evalue": "'<' not supported between instances of 'str' and 'int'",
     "output_type": "error",
     "traceback": [
      "\u001b[0;31m---------------------------------------------------------------------------\u001b[0m",
      "\u001b[0;31mTypeError\u001b[0m                                 Traceback (most recent call last)",
      "\u001b[0;32m<ipython-input-146-fb07ac7c73ab>\u001b[0m in \u001b[0;36m<module>\u001b[0;34m\u001b[0m\n\u001b[0;32m----> 1\u001b[0;31m \u001b[0ml\u001b[0m\u001b[0;34m.\u001b[0m\u001b[0msort\u001b[0m\u001b[0;34m(\u001b[0m\u001b[0;34m)\u001b[0m\u001b[0;34m\u001b[0m\u001b[0;34m\u001b[0m\u001b[0m\n\u001b[0m",
      "\u001b[0;31mTypeError\u001b[0m: '<' not supported between instances of 'str' and 'int'"
     ]
    }
   ],
   "source": [
    "l.sort()"
   ]
  },
  {
   "cell_type": "code",
   "execution_count": 149,
   "metadata": {},
   "outputs": [],
   "source": [
    "f.sort(reverse=True)"
   ]
  },
  {
   "cell_type": "code",
   "execution_count": 150,
   "metadata": {},
   "outputs": [
    {
     "data": {
      "text/plain": [
       "['papaya', 'orange', 'mango', 'kiwi', 'apple']"
      ]
     },
     "execution_count": 150,
     "metadata": {},
     "output_type": "execute_result"
    }
   ],
   "source": [
    "f"
   ]
  },
  {
   "cell_type": "code",
   "execution_count": 151,
   "metadata": {},
   "outputs": [],
   "source": [
    "f.extend([23,45,67])"
   ]
  },
  {
   "cell_type": "code",
   "execution_count": 152,
   "metadata": {},
   "outputs": [
    {
     "data": {
      "text/plain": [
       "['papaya', 'orange', 'mango', 'kiwi', 'apple', 23, 45, 67]"
      ]
     },
     "execution_count": 152,
     "metadata": {},
     "output_type": "execute_result"
    }
   ],
   "source": [
    "f"
   ]
  },
  {
   "cell_type": "markdown",
   "metadata": {},
   "source": [
    "### tuple"
   ]
  },
  {
   "cell_type": "code",
   "execution_count": 153,
   "metadata": {},
   "outputs": [],
   "source": [
    "t = ('papaya', 'orange', 'mango', 'kiwi', 'apple', 23, 45, 67)"
   ]
  },
  {
   "cell_type": "code",
   "execution_count": 154,
   "metadata": {},
   "outputs": [
    {
     "data": {
      "text/plain": [
       "('papaya', 'orange', 'mango', 'kiwi', 'apple', 23, 45, 67)"
      ]
     },
     "execution_count": 154,
     "metadata": {},
     "output_type": "execute_result"
    }
   ],
   "source": [
    "t"
   ]
  },
  {
   "cell_type": "code",
   "execution_count": 156,
   "metadata": {},
   "outputs": [
    {
     "ename": "TypeError",
     "evalue": "'tuple' object does not support item assignment",
     "output_type": "error",
     "traceback": [
      "\u001b[0;31m---------------------------------------------------------------------------\u001b[0m",
      "\u001b[0;31mTypeError\u001b[0m                                 Traceback (most recent call last)",
      "\u001b[0;32m<ipython-input-156-f568202cb74b>\u001b[0m in \u001b[0;36m<module>\u001b[0;34m\u001b[0m\n\u001b[0;32m----> 1\u001b[0;31m \u001b[0mt\u001b[0m\u001b[0;34m[\u001b[0m\u001b[0;36m4\u001b[0m\u001b[0;34m]\u001b[0m \u001b[0;34m=\u001b[0m \u001b[0;34m'hnjkhjlhjl'\u001b[0m\u001b[0;34m\u001b[0m\u001b[0;34m\u001b[0m\u001b[0m\n\u001b[0m",
      "\u001b[0;31mTypeError\u001b[0m: 'tuple' object does not support item assignment"
     ]
    }
   ],
   "source": [
    "t[4] = 'hnjkhjlhjl'"
   ]
  },
  {
   "cell_type": "code",
   "execution_count": 157,
   "metadata": {},
   "outputs": [
    {
     "data": {
      "text/plain": [
       "['papaya', 'orange', 'mango', 'kiwi', 'apple', 23, 45, 67]"
      ]
     },
     "execution_count": 157,
     "metadata": {},
     "output_type": "execute_result"
    }
   ],
   "source": [
    "t = list(t)"
   ]
  },
  {
   "cell_type": "code",
   "execution_count": 158,
   "metadata": {},
   "outputs": [
    {
     "data": {
      "text/plain": [
       "('papaya', 'orange', 'mango', 'kiwi', 'apple', 23, 45, 67)"
      ]
     },
     "execution_count": 158,
     "metadata": {},
     "output_type": "execute_result"
    }
   ],
   "source": [
    "t"
   ]
  },
  {
   "cell_type": "code",
   "execution_count": 160,
   "metadata": {},
   "outputs": [
    {
     "data": {
      "text/plain": [
       "6"
      ]
     },
     "execution_count": 160,
     "metadata": {},
     "output_type": "execute_result"
    }
   ],
   "source": [
    "import random\n",
    "random.randint(0,10)"
   ]
  },
  {
   "cell_type": "markdown",
   "metadata": {},
   "source": [
    "### dictionary"
   ]
  },
  {
   "cell_type": "code",
   "execution_count": 162,
   "metadata": {},
   "outputs": [],
   "source": [
    "D = dict() # {}"
   ]
  },
  {
   "cell_type": "code",
   "execution_count": 163,
   "metadata": {},
   "outputs": [],
   "source": [
    "d = {'a':'apple','b':'ball',2:345,3.14:'dog','l':l}"
   ]
  },
  {
   "cell_type": "code",
   "execution_count": 164,
   "metadata": {},
   "outputs": [
    {
     "data": {
      "text/plain": [
       "{'a': 'apple',\n",
       " 'b': 'ball',\n",
       " 2: 345,\n",
       " 3.14: 'dog',\n",
       " 'l': [23, 'kiwi', 'papaya', 'orange', 'mango', 'apple']}"
      ]
     },
     "execution_count": 164,
     "metadata": {},
     "output_type": "execute_result"
    }
   ],
   "source": [
    "d"
   ]
  },
  {
   "cell_type": "code",
   "execution_count": 165,
   "metadata": {},
   "outputs": [
    {
     "data": {
      "text/plain": [
       "'apple'"
      ]
     },
     "execution_count": 165,
     "metadata": {},
     "output_type": "execute_result"
    }
   ],
   "source": [
    "d['a']"
   ]
  },
  {
   "cell_type": "code",
   "execution_count": 167,
   "metadata": {},
   "outputs": [],
   "source": [
    "d[2] = 458"
   ]
  },
  {
   "cell_type": "code",
   "execution_count": null,
   "metadata": {},
   "outputs": [],
   "source": [
    "del d[3.14]"
   ]
  },
  {
   "cell_type": "code",
   "execution_count": 168,
   "metadata": {},
   "outputs": [
    {
     "data": {
      "text/plain": [
       "{'a': 'apple',\n",
       " 'b': 'ball',\n",
       " 2: 458,\n",
       " 3.14: 'dog',\n",
       " 'l': [23, 'kiwi', 'papaya', 'orange', 'mango', 'apple']}"
      ]
     },
     "execution_count": 168,
     "metadata": {},
     "output_type": "execute_result"
    }
   ],
   "source": [
    "d"
   ]
  },
  {
   "cell_type": "code",
   "execution_count": 169,
   "metadata": {},
   "outputs": [],
   "source": [
    "d['c'] = 'cat'"
   ]
  },
  {
   "cell_type": "code",
   "execution_count": 170,
   "metadata": {},
   "outputs": [
    {
     "data": {
      "text/plain": [
       "{'a': 'apple',\n",
       " 'b': 'ball',\n",
       " 2: 458,\n",
       " 3.14: 'dog',\n",
       " 'l': [23, 'kiwi', 'papaya', 'orange', 'mango', 'apple'],\n",
       " 'c': 'cat'}"
      ]
     },
     "execution_count": 170,
     "metadata": {},
     "output_type": "execute_result"
    }
   ],
   "source": [
    "d"
   ]
  },
  {
   "cell_type": "code",
   "execution_count": 171,
   "metadata": {},
   "outputs": [
    {
     "data": {
      "text/plain": [
       "{'papaya': None,\n",
       " 'orange': None,\n",
       " 'mango': None,\n",
       " 'kiwi': None,\n",
       " 'apple': None,\n",
       " 23: None,\n",
       " 45: None,\n",
       " 67: None}"
      ]
     },
     "execution_count": 171,
     "metadata": {},
     "output_type": "execute_result"
    }
   ],
   "source": [
    "dict.fromkeys(f)"
   ]
  },
  {
   "cell_type": "code",
   "execution_count": 172,
   "metadata": {},
   "outputs": [
    {
     "ename": "KeyError",
     "evalue": "'y'",
     "output_type": "error",
     "traceback": [
      "\u001b[0;31m---------------------------------------------------------------------------\u001b[0m",
      "\u001b[0;31mKeyError\u001b[0m                                  Traceback (most recent call last)",
      "\u001b[0;32m<ipython-input-172-7ae159b89943>\u001b[0m in \u001b[0;36m<module>\u001b[0;34m\u001b[0m\n\u001b[0;32m----> 1\u001b[0;31m \u001b[0md\u001b[0m\u001b[0;34m[\u001b[0m\u001b[0;34m'y'\u001b[0m\u001b[0;34m]\u001b[0m\u001b[0;34m\u001b[0m\u001b[0;34m\u001b[0m\u001b[0m\n\u001b[0m",
      "\u001b[0;31mKeyError\u001b[0m: 'y'"
     ]
    }
   ],
   "source": [
    "d['y']"
   ]
  },
  {
   "cell_type": "code",
   "execution_count": 174,
   "metadata": {},
   "outputs": [
    {
     "data": {
      "text/plain": [
       "('cat', None)"
      ]
     },
     "execution_count": 174,
     "metadata": {},
     "output_type": "execute_result"
    }
   ],
   "source": [
    "d.get('c'),d.get('y')"
   ]
  },
  {
   "cell_type": "code",
   "execution_count": 175,
   "metadata": {},
   "outputs": [
    {
     "data": {
      "text/plain": [
       "dict_items([('a', 'apple'), ('b', 'ball'), (2, 458), (3.14, 'dog'), ('l', [23, 'kiwi', 'papaya', 'orange', 'mango', 'apple']), ('c', 'cat')])"
      ]
     },
     "execution_count": 175,
     "metadata": {},
     "output_type": "execute_result"
    }
   ],
   "source": [
    "d.items()"
   ]
  },
  {
   "cell_type": "code",
   "execution_count": 176,
   "metadata": {},
   "outputs": [
    {
     "data": {
      "text/plain": [
       "dict_keys(['a', 'b', 2, 3.14, 'l', 'c'])"
      ]
     },
     "execution_count": 176,
     "metadata": {},
     "output_type": "execute_result"
    }
   ],
   "source": [
    "d.keys()"
   ]
  },
  {
   "cell_type": "code",
   "execution_count": 177,
   "metadata": {},
   "outputs": [
    {
     "data": {
      "text/plain": [
       "dict_values(['apple', 'ball', 458, 'dog', [23, 'kiwi', 'papaya', 'orange', 'mango', 'apple'], 'cat'])"
      ]
     },
     "execution_count": 177,
     "metadata": {},
     "output_type": "execute_result"
    }
   ],
   "source": [
    "d.values()"
   ]
  },
  {
   "cell_type": "code",
   "execution_count": 179,
   "metadata": {},
   "outputs": [
    {
     "ename": "TypeError",
     "evalue": "'<' not supported between instances of 'int' and 'str'",
     "output_type": "error",
     "traceback": [
      "\u001b[0;31m---------------------------------------------------------------------------\u001b[0m",
      "\u001b[0;31mTypeError\u001b[0m                                 Traceback (most recent call last)",
      "\u001b[0;32m<ipython-input-179-3f6b0c485028>\u001b[0m in \u001b[0;36m<module>\u001b[0;34m\u001b[0m\n\u001b[0;32m----> 1\u001b[0;31m \u001b[0msorted\u001b[0m\u001b[0;34m(\u001b[0m\u001b[0md\u001b[0m\u001b[0;34m)\u001b[0m\u001b[0;34m\u001b[0m\u001b[0;34m\u001b[0m\u001b[0m\n\u001b[0m",
      "\u001b[0;31mTypeError\u001b[0m: '<' not supported between instances of 'int' and 'str'"
     ]
    }
   ],
   "source": [
    "sorted(d)"
   ]
  },
  {
   "cell_type": "code",
   "execution_count": 180,
   "metadata": {},
   "outputs": [
    {
     "data": {
      "text/plain": [
       "'dog'"
      ]
     },
     "execution_count": 180,
     "metadata": {},
     "output_type": "execute_result"
    }
   ],
   "source": [
    "d.pop(3.14)"
   ]
  },
  {
   "cell_type": "code",
   "execution_count": 181,
   "metadata": {},
   "outputs": [
    {
     "data": {
      "text/plain": [
       "{'a': 'apple',\n",
       " 'b': 'ball',\n",
       " 2: 458,\n",
       " 'l': [23, 'kiwi', 'papaya', 'orange', 'mango', 'apple'],\n",
       " 'c': 'cat'}"
      ]
     },
     "execution_count": 181,
     "metadata": {},
     "output_type": "execute_result"
    }
   ],
   "source": [
    "d.popitem()"
   ]
  },
  {
   "cell_type": "code",
   "execution_count": 182,
   "metadata": {},
   "outputs": [],
   "source": [
    "d.update({'t':t[:3],'f':l[:4]})"
   ]
  },
  {
   "cell_type": "code",
   "execution_count": 183,
   "metadata": {},
   "outputs": [
    {
     "data": {
      "text/plain": [
       "{'a': 'apple',\n",
       " 'b': 'ball',\n",
       " 2: 458,\n",
       " 'l': [23, 'kiwi', 'papaya', 'orange', 'mango', 'apple'],\n",
       " 'c': 'cat',\n",
       " 't': ('papaya', 'orange', 'mango'),\n",
       " 'f': [23, 'kiwi', 'papaya', 'orange']}"
      ]
     },
     "execution_count": 183,
     "metadata": {},
     "output_type": "execute_result"
    }
   ],
   "source": [
    "d"
   ]
  },
  {
   "cell_type": "code",
   "execution_count": 185,
   "metadata": {},
   "outputs": [
    {
     "data": {
      "text/plain": [
       "{1: None, 2: None, 3: None, 4: None, 5: None}"
      ]
     },
     "execution_count": 185,
     "metadata": {},
     "output_type": "execute_result"
    }
   ],
   "source": [
    "dict.fromkeys([1,2,3,2,3,1,4,5,5])"
   ]
  },
  {
   "cell_type": "code",
   "execution_count": 186,
   "metadata": {},
   "outputs": [
    {
     "data": {
      "text/plain": [
       "{1, 2, 3, 4, 5}"
      ]
     },
     "execution_count": 186,
     "metadata": {},
     "output_type": "execute_result"
    }
   ],
   "source": [
    "set([1,2,3,2,3,1,4,5,5])"
   ]
  },
  {
   "cell_type": "markdown",
   "metadata": {},
   "source": [
    "### for loop"
   ]
  },
  {
   "cell_type": "code",
   "execution_count": 190,
   "metadata": {},
   "outputs": [
    {
     "name": "stdout",
     "output_type": "stream",
     "text": [
      "hi\n",
      "hi\n",
      "hi\n",
      "hi\n",
      "hi\n"
     ]
    }
   ],
   "source": [
    "for _ in range(5):\n",
    "    print('hi')"
   ]
  },
  {
   "cell_type": "code",
   "execution_count": 192,
   "metadata": {},
   "outputs": [
    {
     "name": "stdout",
     "output_type": "stream",
     "text": [
      "21\n",
      "23\n",
      "25\n",
      "27\n",
      "29\n"
     ]
    }
   ],
   "source": [
    "for i in range(21,31,2):\n",
    "    print(i)"
   ]
  },
  {
   "cell_type": "code",
   "execution_count": 193,
   "metadata": {},
   "outputs": [
    {
     "name": "stdout",
     "output_type": "stream",
     "text": [
      "23\n",
      "kiwi\n",
      "papaya\n",
      "orange\n",
      "mango\n",
      "apple\n"
     ]
    }
   ],
   "source": [
    "for i in l:\n",
    "    print(i)"
   ]
  },
  {
   "cell_type": "code",
   "execution_count": 194,
   "metadata": {},
   "outputs": [
    {
     "name": "stdout",
     "output_type": "stream",
     "text": [
      "23 papaya\n",
      "kiwi orange\n",
      "papaya mango\n",
      "orange kiwi\n",
      "mango apple\n",
      "apple 23\n"
     ]
    }
   ],
   "source": [
    "for i,j in zip(l,t):\n",
    "    print(i,j)"
   ]
  },
  {
   "cell_type": "code",
   "execution_count": 195,
   "metadata": {},
   "outputs": [
    {
     "name": "stdout",
     "output_type": "stream",
     "text": [
      "papaya 23\n",
      "orange kiwi\n",
      "mango papaya\n",
      "kiwi orange\n",
      "apple mango\n",
      "23 apple\n"
     ]
    },
    {
     "ename": "IndexError",
     "evalue": "list index out of range",
     "output_type": "error",
     "traceback": [
      "\u001b[0;31m---------------------------------------------------------------------------\u001b[0m",
      "\u001b[0;31mIndexError\u001b[0m                                Traceback (most recent call last)",
      "\u001b[0;32m<ipython-input-195-e4f609095945>\u001b[0m in \u001b[0;36m<module>\u001b[0;34m\u001b[0m\n\u001b[1;32m      1\u001b[0m \u001b[0;32mfor\u001b[0m \u001b[0mi\u001b[0m \u001b[0;32min\u001b[0m \u001b[0mrange\u001b[0m\u001b[0;34m(\u001b[0m\u001b[0mlen\u001b[0m\u001b[0;34m(\u001b[0m\u001b[0mt\u001b[0m\u001b[0;34m)\u001b[0m\u001b[0;34m)\u001b[0m\u001b[0;34m:\u001b[0m\u001b[0;34m\u001b[0m\u001b[0;34m\u001b[0m\u001b[0m\n\u001b[0;32m----> 2\u001b[0;31m     \u001b[0mprint\u001b[0m\u001b[0;34m(\u001b[0m\u001b[0mt\u001b[0m\u001b[0;34m[\u001b[0m\u001b[0mi\u001b[0m\u001b[0;34m]\u001b[0m\u001b[0;34m,\u001b[0m\u001b[0ml\u001b[0m\u001b[0;34m[\u001b[0m\u001b[0mi\u001b[0m\u001b[0;34m]\u001b[0m\u001b[0;34m)\u001b[0m\u001b[0;34m\u001b[0m\u001b[0;34m\u001b[0m\u001b[0m\n\u001b[0m",
      "\u001b[0;31mIndexError\u001b[0m: list index out of range"
     ]
    }
   ],
   "source": [
    "for i in range(len(t)):\n",
    "    \n",
    "    print(t[i],l[i])"
   ]
  },
  {
   "cell_type": "code",
   "execution_count": 196,
   "metadata": {},
   "outputs": [
    {
     "name": "stdout",
     "output_type": "stream",
     "text": [
      "a -> apple\n",
      "b -> ball\n",
      "2 -> 458\n",
      "l -> [23, 'kiwi', 'papaya', 'orange', 'mango', 'apple']\n",
      "c -> cat\n",
      "t -> ('papaya', 'orange', 'mango')\n",
      "f -> [23, 'kiwi', 'papaya', 'orange']\n"
     ]
    }
   ],
   "source": [
    "for k,v in d.items():\n",
    "    print(k,'->',v)"
   ]
  },
  {
   "cell_type": "code",
   "execution_count": 202,
   "metadata": {},
   "outputs": [
    {
     "name": "stdout",
     "output_type": "stream",
     "text": [
      "CPU times: user 14 µs, sys: 1 µs, total: 15 µs\n",
      "Wall time: 19.1 µs\n"
     ]
    }
   ],
   "source": [
    "%%time\n",
    "temp = []\n",
    "for i in l:\n",
    "    if str(i).isalpha():\n",
    "        temp.append(i.upper())"
   ]
  },
  {
   "cell_type": "code",
   "execution_count": 199,
   "metadata": {},
   "outputs": [
    {
     "data": {
      "text/plain": [
       "['KIWI', 'PAPAYA', 'ORANGE', 'MANGO', 'APPLE']"
      ]
     },
     "execution_count": 199,
     "metadata": {},
     "output_type": "execute_result"
    }
   ],
   "source": [
    "temp"
   ]
  },
  {
   "cell_type": "code",
   "execution_count": 203,
   "metadata": {},
   "outputs": [
    {
     "name": "stdout",
     "output_type": "stream",
     "text": [
      "CPU times: user 14 µs, sys: 0 ns, total: 14 µs\n",
      "Wall time: 17.4 µs\n"
     ]
    },
    {
     "data": {
      "text/plain": [
       "['KIWI', 'PAPAYA', 'ORANGE', 'MANGO', 'APPLE']"
      ]
     },
     "execution_count": 203,
     "metadata": {},
     "output_type": "execute_result"
    }
   ],
   "source": [
    "%%time\n",
    "[i.upper() for i in l if str(i).isalpha()]"
   ]
  },
  {
   "cell_type": "markdown",
   "metadata": {},
   "source": [
    "### HW-2"
   ]
  },
  {
   "cell_type": "markdown",
   "metadata": {
    "solution2": "hidden",
    "solution2_first": true
   },
   "source": [
    "1. write the python code to the find number in the user mind using random library and also try its inverse version.\n",
    "\n",
    "2. write the python code to predict the three digit number using cow- bull logic,\n",
    "\n",
    "        cow -> correct number and correct position\n",
    "        bull -> correct number and wrong position\n",
    "        \n",
    "3. write the python code to predict the word. hangman game\n",
    "<code>\n",
    "    from random import choice, randint\n",
    "    choice(l)\n",
    "    randint(0,10)\n",
    "</code>"
   ]
  },
  {
   "cell_type": "markdown",
   "metadata": {
    "solution2": "hidden"
   },
   "source": [
    "#### guess game solutions"
   ]
  },
  {
   "cell_type": "code",
   "execution_count": null,
   "metadata": {
    "solution2": "hidden"
   },
   "outputs": [],
   "source": [
    "sv = 0\n",
    "fv = 100\n",
    "import random\n",
    "\n",
    "print(\"Guess a value between 0 - 100\")\n",
    "cnt = 0\n",
    "while True:\n",
    "    print()\n",
    "    v = random.randint(sv, fv)\n",
    "    print(\"Computer thinks it is :\" + str(v))\n",
    "    print()\n",
    "    print(\"1. High\")\n",
    "    print(\"2. Low\")\n",
    "    print(\"3. Bingo\")\n",
    "    print(\"4. Exit\")\n",
    "    while True:\n",
    "        gv = int(input(\"Is computer guessed value: (1/2/3) \"))\n",
    "        print()\n",
    "        if (gv > 3 or gv < 1):\n",
    "            print(\"not a valid option\")\n",
    "            continue\n",
    "        else:\n",
    "            break\n",
    "    cnt = cnt + 1\n",
    "    if gv == 3:\n",
    "        print(\"Congratulations!! Computer got it in {} attempts!!\".format(\n",
    "            str(cnt)))\n",
    "        break\n",
    "    elif gv == 2:\n",
    "        sv = v + 1\n",
    "    elif gv == 1:\n",
    "        fv = v - 1\n",
    "    else:\n",
    "        break"
   ]
  },
  {
   "cell_type": "code",
   "execution_count": null,
   "metadata": {
    "solution2": "hidden"
   },
   "outputs": [],
   "source": [
    "import random\n",
    "print('Think a number between 0 - 100')\n",
    "\n",
    "lRange = 0\n",
    "hRange = 100\n",
    "attempts = 0\n",
    "while True:\n",
    "    guessNumber = random.randint(lRange,hRange)\n",
    "    attempts = attempts + 1\n",
    "    print (f'is your number {guessNumber} ?')\n",
    "    print('a.high\\nb.low\\nc.bingo\\n')\n",
    "    option = input()\n",
    "    if option == 'a':\n",
    "        hRange = guessNumber - 1\n",
    "        continue\n",
    "    elif option == 'b':\n",
    "        lRange = guessNumber + 1\n",
    "        continue\n",
    "    elif option == 'c':\n",
    "        print(f'your number is {guessNumber} and found it in {attempts} attempts')\n",
    "        break"
   ]
  },
  {
   "cell_type": "code",
   "execution_count": 2,
   "metadata": {
    "solution2": "hidden"
   },
   "outputs": [
    {
     "name": "stdout",
     "output_type": "stream",
     "text": [
      "Find the number between 0 - 100\n",
      "Press Y to continue:\n",
      "NoneY\n",
      "Computer ji - Is Your Guessed number  28 ?\n",
      "low\n",
      "Computer ji - Is Your Guessed number  57 ?\n",
      "high\n",
      "Computer ji - Is Your Guessed number  48 ?\n",
      "Yes the number is 48 and found in 3 attempts\n"
     ]
    }
   ],
   "source": [
    "import random\n",
    "print('Find the number between 0 - 100')\n",
    "\n",
    "lRange = 0\n",
    "hRange = 100\n",
    "attempts = 0\n",
    "computerNumber = random.randint(lRange,hRange)\n",
    "ready = input(print('Press Y to continue:'))\n",
    "while ready == 'Y':\n",
    "    myNumber = random.randint(lRange,hRange)\n",
    "    print(f'Computer ji - Is Your Guessed number  {myNumber} ?')\n",
    "    attempts = attempts + 1\n",
    "    if myNumber > computerNumber :\n",
    "        print('high')\n",
    "        hRange = myNumber - 1\n",
    "    elif myNumber < computerNumber :\n",
    "        print('low')\n",
    "        lRange = myNumber + 1\n",
    "    elif myNumber == computerNumber :\n",
    "        print(f'Yes the number is {myNumber} and found in {attempts} attempts')\n",
    "        break"
   ]
  },
  {
   "cell_type": "code",
   "execution_count": 3,
   "metadata": {
    "solution2": "hidden"
   },
   "outputs": [
    {
     "name": "stdout",
     "output_type": "stream",
     "text": [
      "\n",
      "Computer random  :24\n",
      "\n",
      "Guess a value between 0 - 10056\n",
      "\n",
      "user guessed value - 56\n",
      "It is high, think of another number...\n",
      "Do you want to continue (y/n)...y\n",
      "\n",
      "Guess a value between 0 - 10012\n",
      "\n",
      "user guessed value - 12\n",
      "It is Low, think of another number...\n",
      "Do you want to continue (y/n)...y\n",
      "\n",
      "Guess a value between 0 - 10024\n",
      "\n",
      "user guessed value - 24\n",
      "Bingo - you got it correct, Congratulations!!\n",
      "Do you want to continue (y/n)...y\n",
      "\n",
      "Guess a value between 0 - 10032\n",
      "\n",
      "user guessed value - 32\n",
      "It is high, think of another number...\n",
      "Do you want to continue (y/n)...y\n",
      "\n",
      "Guess a value between 0 - 10024\n",
      "\n",
      "user guessed value - 24\n",
      "Bingo - you got it correct, Congratulations!!\n",
      "Do you want to continue (y/n)...n\n"
     ]
    }
   ],
   "source": [
    "sv = 0\n",
    "fv = 100\n",
    "import random\n",
    "\n",
    "print()\n",
    "v = random.randint(sv,fv)\n",
    "print(\"Computer random  :\" + str(v))\n",
    "\n",
    "cnt = 0\n",
    "c = \"y\" \n",
    "while (c == \"y\"): \n",
    "    print()\n",
    "    uv = int(input(\"Guess a value between 0 - 100 :\"))\n",
    "    print()\n",
    "    print(\"user guessed value - {}\".format(str(uv)))\n",
    "    cnt = cnt + 1\n",
    "    if (uv == v):\n",
    "        print(\"Bingo - you got it correct, Congratulations!!\")\n",
    "    elif (uv > v):\n",
    "        print(\"It is high, think of another number...\")\n",
    "    elif (uv < v):    \n",
    "        print(\"It is Low, think of another number...\")\n",
    "    c = input(\"Do you want to continue (y/n)...\") \n",
    "    if (c == \"y\"): \n",
    "        continue\n",
    "    else :\n",
    "         break   "
   ]
  },
  {
   "cell_type": "markdown",
   "metadata": {
    "solution2": "hidden"
   },
   "source": [
    "#### cow-bull"
   ]
  },
  {
   "cell_type": "code",
   "execution_count": 4,
   "metadata": {
    "solution2": "hidden"
   },
   "outputs": [
    {
     "name": "stdout",
     "output_type": "stream",
     "text": [
      "Enter a 3 digit Number:\n",
      "None586\n",
      "Cow 0 Bull 2\n",
      "Enter a 3 digit Number:\n",
      "None865\n",
      "Cow 1 Bull 1\n",
      "Enter a 3 digit Number:\n",
      "None856\n",
      "Cow 2 Bull 0\n",
      "Enter a 3 digit Number:\n",
      "None850\n",
      "Awesome. The Number is 850. Completed in 4 attempts.\n"
     ]
    }
   ],
   "source": [
    "import random\n",
    "\n",
    "lrange = 100\n",
    "hrange= 999\n",
    "compguessNbr = str(random.randint(lrange,hrange))\n",
    "attempt =0\n",
    "##print(f\"Computer Guess Number: {compguessNbr}\")\n",
    "while True:\n",
    "    Cow = 0\n",
    "    Bull = 0\n",
    "    attempt += 1 \n",
    "    myguessNumber = str(input(print('Enter a 3 digit Number:')))\n",
    "    if compguessNbr == myguessNumber :\n",
    "        print(f\"Awesome. The Number is {compguessNbr}. Completed in {attempt} attempts.\")\n",
    "        break\n",
    "    else:\n",
    "        for i in range(3):\n",
    "            if myguessNumber[i] == compguessNbr[i]:\n",
    "                Cow += 1\n",
    "            elif compguessNbr.find(myguessNumber[i]) > -1:\n",
    "                Bull += 1\n",
    "        print (f\"Cow {Cow} Bull {Bull}\")   \n",
    "        continue"
   ]
  },
  {
   "cell_type": "code",
   "execution_count": 5,
   "metadata": {
    "solution2": "hidden"
   },
   "outputs": [
    {
     "name": "stdout",
     "output_type": "stream",
     "text": [
      "Computer guessed 3 digit number...902\n",
      "\n",
      "Guess a 3 digit number......:   992\n",
      "\n",
      "cow - 2\n",
      "bull - 1\n",
      "\n",
      "Guess a 3 digit number......:   290\n",
      "\n",
      "cow - 0\n",
      "bull - 3\n",
      "\n",
      "Guess a 3 digit number......:   228\n",
      "\n",
      "cow - 0\n",
      "bull - 2\n",
      "\n",
      "Guess a 3 digit number......:   902\n",
      "\n",
      "cow - 3\n",
      "bull - 0\n",
      "\n",
      "The number 902 is correct!!\n"
     ]
    }
   ],
   "source": [
    "## Cow bull game - Predicting 3 digit number\n",
    "import random\n",
    "cv = random.randint(100, 999)\n",
    "print(\"Computer guessed 3 digit number...{}\".format(str(cv)))\n",
    "print()\n",
    "while True:\n",
    "    ui = input(\"Guess a 3 digit number......:   \")\n",
    "    print()\n",
    "    cow = 0\n",
    "    bull = 0\n",
    "    for i in range(len(str(ui))):\n",
    "        for j in range(len(str(cv))):\n",
    "            if (str(ui)[i] == str(cv)[j] and (i == j)):\n",
    "                cow = cow + 1\n",
    "            elif (str(ui)[i] == str(cv)[j]):\n",
    "                bull = bull + 1\n",
    "    print(\"cow - {}\".format(str(cow)))\n",
    "    print(\"bull - {}\".format(str(bull)))\n",
    "    print()\n",
    "    if cow == 3:\n",
    "        print(\"The number {} is correct!!\".format(str(ui)))\n",
    "        break\n",
    "    else:\n",
    "        continue"
   ]
  },
  {
   "cell_type": "markdown",
   "metadata": {
    "solution2": "hidden"
   },
   "source": [
    "#### hangman"
   ]
  },
  {
   "cell_type": "code",
   "execution_count": 6,
   "metadata": {
    "solution2": "hidden"
   },
   "outputs": [
    {
     "name": "stdout",
     "output_type": "stream",
     "text": [
      "Rajnikanth Movie Starts with S\n",
      "['_', '_', '_', '_', '_', '_']\n",
      "Enter your Guess:\n",
      "Nones\n",
      "Enter your Guess:\n",
      "NoneS\n",
      "['S', '_', '_', '_', '_', '_']\n",
      "Enter your Guess:\n",
      "NoneI\n",
      "['S', 'I', '_', '_', '_', 'I']\n",
      "Enter your Guess:\n",
      "NoneV\n",
      "['S', 'I', 'V', '_', '_', 'I']\n",
      "Enter your Guess:\n",
      "NoneA\n",
      "['S', 'I', 'V', 'A', '_', 'I']\n",
      "Enter your Guess:\n",
      "NoneG\n",
      "Enter your Guess:\n",
      "NoneJ\n",
      "['S', 'I', 'V', 'A', 'J', 'I']\n",
      "Won in 7 attempts\n"
     ]
    }
   ],
   "source": [
    "## Hangman\n",
    "import random\n",
    "lstMovies = ['BAASHA','PADAYAPPA','MUTHU','SIVAJI','KALA','DARBAR','PETTA','KABALI','ANNAMALAI','LINGA']\n",
    "movie = [x for x in random.choice(lstMovies)]\n",
    "print(f\"Rajnikanth Movie Starts with {movie[0]}\")\n",
    "\n",
    "movielst = []\n",
    "attempts = 0\n",
    "for i in range(len(movie)):\n",
    "    movielst.append('_')\n",
    "print(f\"{movielst}\")\n",
    "\n",
    "while True:\n",
    "    ltr = input(print(\"Enter your Guess:\"))\n",
    "    attempts += 1\n",
    "    if ltr not in movie:\n",
    "        continue\n",
    "    else:\n",
    "        for i in range(len(movie)):\n",
    "            if ltr == movie[i]:\n",
    "                movielst[i] = ltr\n",
    "        print(f\"{movielst}\")\n",
    "        if movielst == movie:\n",
    "            print(f\"Won in {attempts} attempts\")\n",
    "            break\n",
    "        else:\n",
    "            continue"
   ]
  },
  {
   "cell_type": "code",
   "execution_count": 7,
   "metadata": {
    "scrolled": true,
    "solution2": "hidden"
   },
   "outputs": [
    {
     "name": "stdout",
     "output_type": "stream",
     "text": [
      "Computer choice....banjo\n",
      "\n",
      "The word is...['-', '-', '-', '-', '-']\n",
      "\n",
      "Enter a letter....b\n",
      "b\n",
      "The word is... ['B', '-', '-', '-', '-']\n",
      "Enter a letter....a\n",
      "a\n",
      "The word is... ['B', 'A', '-', '-', '-']\n",
      "Enter a letter....e\n",
      "e\n",
      "The word is... ['B', 'A', '-', '-', '-']\n",
      "Enter a letter....n\n",
      "n\n",
      "The word is... ['B', 'A', 'N', '-', '-']\n",
      "Enter a letter....h\n",
      "h\n",
      "The word is... ['B', 'A', 'N', '-', '-']\n",
      "Enter a letter....j\n",
      "j\n",
      "The word is... ['B', 'A', 'N', 'J', '-']\n",
      "Enter a letter....o\n",
      "o\n",
      "The word is... ['B', 'A', 'N', 'J', 'O']\n",
      "Congratulations....!!\n"
     ]
    }
   ],
   "source": [
    "## hangman game\n",
    "\n",
    "import random\n",
    "\n",
    "l = [\"abyss\", \"banjo\", \"crypto\", \"discover\", \"dizzy\", \"flopping\" ]\n",
    "rw = random.choice(l)\n",
    "print(\"Computer choice....{}\".format(rw))\n",
    "\n",
    "tl = []\n",
    "\n",
    "for i in range(len(rw)):\n",
    "    tl.append('-')\n",
    "print()\n",
    "print(\"The word is...{}\".format(tl)) \n",
    "print()\n",
    "\n",
    "while True:\n",
    "    ui = input(\"Enter a letter....\")\n",
    "    print(ui)\n",
    "    cnt = 0\n",
    "    for i in range(len(rw)):\n",
    "        if (rw[i].upper() == ui.upper()):\n",
    "            tl[i] = ui.upper()\n",
    "    print(\"The word is... {}\".format(tl))\n",
    "    for i in range(len(rw)):\n",
    "        if(tl[i] == '-'): \n",
    "            cnt = cnt +1\n",
    "    if cnt > 0:\n",
    "        continue\n",
    "    else:    \n",
    "        print(\"Congratulations....!!\")\n",
    "        break\n",
    "    print(tl)"
   ]
  },
  {
   "cell_type": "markdown",
   "metadata": {},
   "source": [
    "### functions"
   ]
  },
  {
   "cell_type": "code",
   "execution_count": 9,
   "metadata": {},
   "outputs": [],
   "source": [
    "def calc():\n",
    "    a = int(input('A : '))\n",
    "    b = int(input('B : '))\n",
    "    print(a+b,a*b,a-b,a/b)"
   ]
  },
  {
   "cell_type": "code",
   "execution_count": 10,
   "metadata": {},
   "outputs": [
    {
     "name": "stdout",
     "output_type": "stream",
     "text": [
      "A : 8\n",
      "B : 3\n",
      "11 24 5 2.6666666666666665\n"
     ]
    }
   ],
   "source": [
    "calc()"
   ]
  },
  {
   "cell_type": "code",
   "execution_count": 11,
   "metadata": {},
   "outputs": [],
   "source": [
    "def calc():\n",
    "    a = int(input('A : '))\n",
    "    b = int(input('B : '))\n",
    "    return a+b,a*b,a-b,a/b"
   ]
  },
  {
   "cell_type": "code",
   "execution_count": 12,
   "metadata": {},
   "outputs": [
    {
     "name": "stdout",
     "output_type": "stream",
     "text": [
      "A : 4\n",
      "B : 2\n"
     ]
    }
   ],
   "source": [
    "s,m,d,q = calc()"
   ]
  },
  {
   "cell_type": "code",
   "execution_count": 13,
   "metadata": {},
   "outputs": [
    {
     "data": {
      "text/plain": [
       "(6, 8, 2, 2.0)"
      ]
     },
     "execution_count": 13,
     "metadata": {},
     "output_type": "execute_result"
    }
   ],
   "source": [
    "s,m,d,q"
   ]
  },
  {
   "cell_type": "code",
   "execution_count": 14,
   "metadata": {},
   "outputs": [],
   "source": [
    "def calc(a,b):\n",
    "    return a+b,a*b,a-b,a/b"
   ]
  },
  {
   "cell_type": "code",
   "execution_count": 15,
   "metadata": {},
   "outputs": [
    {
     "name": "stdout",
     "output_type": "stream",
     "text": [
      "A : 5\n",
      "B : 2\n"
     ]
    }
   ],
   "source": [
    "c = int(input('A : '))\n",
    "d = int(input('B : '))\n",
    "s,m,d,q = calc(c,d)"
   ]
  },
  {
   "cell_type": "code",
   "execution_count": 16,
   "metadata": {},
   "outputs": [
    {
     "data": {
      "text/plain": [
       "(7, 10, 3, 2.5)"
      ]
     },
     "execution_count": 16,
     "metadata": {},
     "output_type": "execute_result"
    }
   ],
   "source": [
    "s,m,d,q"
   ]
  },
  {
   "cell_type": "code",
   "execution_count": 17,
   "metadata": {},
   "outputs": [],
   "source": [
    "def calc(b,a=5):\n",
    "    return a+b,a*b,a-b,a/b"
   ]
  },
  {
   "cell_type": "code",
   "execution_count": 18,
   "metadata": {},
   "outputs": [],
   "source": [
    "s,m,d,q = calc(c)\n",
    "s,m,d,q = calc(b=c)\n",
    "s,m,d,q = calc(b=c,a=d)"
   ]
  },
  {
   "cell_type": "code",
   "execution_count": 19,
   "metadata": {},
   "outputs": [
    {
     "data": {
      "text/plain": [
       "(10, 25, 0, 1.0)"
      ]
     },
     "execution_count": 19,
     "metadata": {},
     "output_type": "execute_result"
    }
   ],
   "source": [
    "s,m,d,q"
   ]
  },
  {
   "cell_type": "code",
   "execution_count": 22,
   "metadata": {},
   "outputs": [],
   "source": [
    "def calc(*args):\n",
    "    print(args)\n",
    "    return sum(args)"
   ]
  },
  {
   "cell_type": "code",
   "execution_count": 23,
   "metadata": {},
   "outputs": [
    {
     "name": "stdout",
     "output_type": "stream",
     "text": [
      "(2, 3, 4, 5, 6)\n"
     ]
    },
    {
     "data": {
      "text/plain": [
       "20"
      ]
     },
     "execution_count": 23,
     "metadata": {},
     "output_type": "execute_result"
    }
   ],
   "source": [
    "calc(2,3,4,5,6)"
   ]
  },
  {
   "cell_type": "code",
   "execution_count": 28,
   "metadata": {},
   "outputs": [
    {
     "name": "stdout",
     "output_type": "stream",
     "text": [
      "b -> 5\n",
      "a -> 0\n"
     ]
    }
   ],
   "source": [
    "def calc(**kwargs):\n",
    "    for k,v in kwargs.items():\n",
    "        print(k,'->',v)"
   ]
  },
  {
   "cell_type": "code",
   "execution_count": 27,
   "metadata": {},
   "outputs": [
    {
     "name": "stdout",
     "output_type": "stream",
     "text": [
      "b -> 5\n",
      "a -> 0\n"
     ]
    }
   ],
   "source": [
    "calc(b=c,a=d)"
   ]
  },
  {
   "cell_type": "code",
   "execution_count": 29,
   "metadata": {},
   "outputs": [],
   "source": [
    "def addition(a,b,c=None):\n",
    "    if c:\n",
    "        return a+b+c\n",
    "    else:\n",
    "        return a+b"
   ]
  },
  {
   "cell_type": "code",
   "execution_count": 30,
   "metadata": {},
   "outputs": [
    {
     "data": {
      "text/plain": [
       "5"
      ]
     },
     "execution_count": 30,
     "metadata": {},
     "output_type": "execute_result"
    }
   ],
   "source": [
    "addition(2,3)"
   ]
  },
  {
   "cell_type": "code",
   "execution_count": 31,
   "metadata": {},
   "outputs": [
    {
     "data": {
      "text/plain": [
       "9"
      ]
     },
     "execution_count": 31,
     "metadata": {},
     "output_type": "execute_result"
    }
   ],
   "source": [
    "addition(2,3,4)"
   ]
  },
  {
   "cell_type": "code",
   "execution_count": 32,
   "metadata": {},
   "outputs": [],
   "source": [
    "f = lambda a,b : a+b"
   ]
  },
  {
   "cell_type": "code",
   "execution_count": 36,
   "metadata": {},
   "outputs": [],
   "source": [
    "f = lambda *args : sum(args)"
   ]
  },
  {
   "cell_type": "code",
   "execution_count": 37,
   "metadata": {},
   "outputs": [
    {
     "data": {
      "text/plain": [
       "7"
      ]
     },
     "execution_count": 37,
     "metadata": {},
     "output_type": "execute_result"
    }
   ],
   "source": [
    "f(3,4)"
   ]
  },
  {
   "cell_type": "code",
   "execution_count": 42,
   "metadata": {},
   "outputs": [],
   "source": [
    "u = lambda s: str(s).lower()"
   ]
  },
  {
   "cell_type": "code",
   "execution_count": 43,
   "metadata": {},
   "outputs": [
    {
     "data": {
      "text/plain": [
       "['BAASHA',\n",
       " 'PADAYAPPA',\n",
       " 'MUTHU',\n",
       " 'SIVAJI',\n",
       " 'KALA',\n",
       " 'DARBAR',\n",
       " 'PETTA',\n",
       " 'KABALI',\n",
       " 'ANNAMALAI',\n",
       " 'LINGA']"
      ]
     },
     "execution_count": 43,
     "metadata": {},
     "output_type": "execute_result"
    }
   ],
   "source": [
    "lstMovies"
   ]
  },
  {
   "cell_type": "code",
   "execution_count": 47,
   "metadata": {},
   "outputs": [
    {
     "name": "stdout",
     "output_type": "stream",
     "text": [
      "CPU times: user 16 µs, sys: 0 ns, total: 16 µs\n",
      "Wall time: 20.7 µs\n"
     ]
    }
   ],
   "source": [
    "%%time\n",
    "temp = []\n",
    "for i in lstMovies:\n",
    "    temp.append(u(i))"
   ]
  },
  {
   "cell_type": "code",
   "execution_count": 45,
   "metadata": {},
   "outputs": [
    {
     "data": {
      "text/plain": [
       "['baasha',\n",
       " 'padayappa',\n",
       " 'muthu',\n",
       " 'sivaji',\n",
       " 'kala',\n",
       " 'darbar',\n",
       " 'petta',\n",
       " 'kabali',\n",
       " 'annamalai',\n",
       " 'linga']"
      ]
     },
     "execution_count": 45,
     "metadata": {},
     "output_type": "execute_result"
    }
   ],
   "source": [
    "temp"
   ]
  },
  {
   "cell_type": "code",
   "execution_count": 48,
   "metadata": {},
   "outputs": [
    {
     "name": "stdout",
     "output_type": "stream",
     "text": [
      "CPU times: user 34 µs, sys: 5 µs, total: 39 µs\n",
      "Wall time: 47.7 µs\n"
     ]
    },
    {
     "data": {
      "text/plain": [
       "['baasha',\n",
       " 'padayappa',\n",
       " 'muthu',\n",
       " 'sivaji',\n",
       " 'kala',\n",
       " 'darbar',\n",
       " 'petta',\n",
       " 'kabali',\n",
       " 'annamalai',\n",
       " 'linga']"
      ]
     },
     "execution_count": 48,
     "metadata": {},
     "output_type": "execute_result"
    }
   ],
   "source": [
    "%%time\n",
    "list(map(u,lstMovies))"
   ]
  },
  {
   "cell_type": "code",
   "execution_count": 51,
   "metadata": {},
   "outputs": [],
   "source": [
    "def addition(a:list,b:int):\n",
    "    return a+b"
   ]
  },
  {
   "cell_type": "code",
   "execution_count": 52,
   "metadata": {},
   "outputs": [
    {
     "ename": "TypeError",
     "evalue": "must be str, not int",
     "output_type": "error",
     "traceback": [
      "\u001b[0;31m---------------------------------------------------------------------------\u001b[0m",
      "\u001b[0;31mTypeError\u001b[0m                                 Traceback (most recent call last)",
      "\u001b[0;32m<ipython-input-52-f170f3de02b4>\u001b[0m in \u001b[0;36m<module>\u001b[0;34m\u001b[0m\n\u001b[0;32m----> 1\u001b[0;31m \u001b[0maddition\u001b[0m\u001b[0;34m(\u001b[0m\u001b[0;34m'apple'\u001b[0m\u001b[0;34m,\u001b[0m\u001b[0;36m5\u001b[0m\u001b[0;34m)\u001b[0m\u001b[0;34m\u001b[0m\u001b[0;34m\u001b[0m\u001b[0m\n\u001b[0m",
      "\u001b[0;32m<ipython-input-51-e5efcd9a86d5>\u001b[0m in \u001b[0;36maddition\u001b[0;34m(a, b)\u001b[0m\n\u001b[1;32m      1\u001b[0m \u001b[0;32mdef\u001b[0m \u001b[0maddition\u001b[0m\u001b[0;34m(\u001b[0m\u001b[0ma\u001b[0m\u001b[0;34m:\u001b[0m\u001b[0mlist\u001b[0m\u001b[0;34m,\u001b[0m\u001b[0mb\u001b[0m\u001b[0;34m:\u001b[0m\u001b[0mint\u001b[0m\u001b[0;34m)\u001b[0m\u001b[0;34m:\u001b[0m\u001b[0;34m\u001b[0m\u001b[0;34m\u001b[0m\u001b[0m\n\u001b[0;32m----> 2\u001b[0;31m     \u001b[0;32mreturn\u001b[0m \u001b[0ma\u001b[0m\u001b[0;34m+\u001b[0m\u001b[0mb\u001b[0m\u001b[0;34m\u001b[0m\u001b[0;34m\u001b[0m\u001b[0m\n\u001b[0m",
      "\u001b[0;31mTypeError\u001b[0m: must be str, not int"
     ]
    }
   ],
   "source": [
    "addition('apple',5)"
   ]
  },
  {
   "cell_type": "markdown",
   "metadata": {},
   "source": [
    "### error handling"
   ]
  },
  {
   "cell_type": "code",
   "execution_count": 57,
   "metadata": {},
   "outputs": [
    {
     "ename": "TypeError",
     "evalue": "'z' is an invalid keyword argument for this function",
     "output_type": "error",
     "traceback": [
      "\u001b[0;31m---------------------------------------------------------------------------\u001b[0m",
      "\u001b[0;31mTypeError\u001b[0m                                 Traceback (most recent call last)",
      "\u001b[0;32m<ipython-input-57-4b6b38324b1c>\u001b[0m in \u001b[0;36m<module>\u001b[0;34m\u001b[0m\n\u001b[0;32m----> 1\u001b[0;31m \u001b[0mprint\u001b[0m\u001b[0;34m(\u001b[0m\u001b[0mz\u001b[0m\u001b[0;34m=\u001b[0m\u001b[0;36m4\u001b[0m\u001b[0;34m)\u001b[0m\u001b[0;34m\u001b[0m\u001b[0;34m\u001b[0m\u001b[0m\n\u001b[0m\u001b[1;32m      2\u001b[0m \u001b[0mprint\u001b[0m\u001b[0;34m(\u001b[0m\u001b[0;34m\"hello\"\u001b[0m\u001b[0;34m)\u001b[0m\u001b[0;34m\u001b[0m\u001b[0;34m\u001b[0m\u001b[0m\n",
      "\u001b[0;31mTypeError\u001b[0m: 'z' is an invalid keyword argument for this function"
     ]
    }
   ],
   "source": [
    "print(z=4)\n",
    "print(\"hello\")"
   ]
  },
  {
   "cell_type": "code",
   "execution_count": 55,
   "metadata": {},
   "outputs": [
    {
     "name": "stdout",
     "output_type": "stream",
     "text": [
      "There is an error\n",
      "hello\n"
     ]
    }
   ],
   "source": [
    "try:\n",
    "    print(z)\n",
    "except:\n",
    "    print('There is an error')\n",
    "print(\"hello\")"
   ]
  },
  {
   "cell_type": "code",
   "execution_count": 56,
   "metadata": {},
   "outputs": [
    {
     "name": "stdout",
     "output_type": "stream",
     "text": [
      "There is an error: name 'z' is not defined\n",
      "hello\n"
     ]
    }
   ],
   "source": [
    "try:\n",
    "    print(z)\n",
    "except Exception as e:\n",
    "    print(f'There is an error: {str(e)}')\n",
    "print(\"hello\")"
   ]
  },
  {
   "cell_type": "code",
   "execution_count": 59,
   "metadata": {},
   "outputs": [
    {
     "name": "stdout",
     "output_type": "stream",
     "text": [
      "There is a type error: 'z' is an invalid keyword argument for this function\n",
      "hello\n"
     ]
    }
   ],
   "source": [
    "try:\n",
    "    print(z=4)\n",
    "except NameError as e:\n",
    "    print(f'There is a name error: {str(e)}')\n",
    "except TypeError as e:\n",
    "    print(f'There is a type error: {str(e)}')\n",
    "print(\"hello\")"
   ]
  },
  {
   "cell_type": "code",
   "execution_count": 61,
   "metadata": {},
   "outputs": [
    {
     "name": "stdout",
     "output_type": "stream",
     "text": [
      "There is an error: 'z' is an invalid keyword argument for this function\n",
      "hello\n"
     ]
    }
   ],
   "source": [
    "try:\n",
    "    print(z=4)\n",
    "except (NameError, TabError,TypeError) as e:\n",
    "    print(f'There is an error: {str(e)}')\n",
    "print(\"hello\")"
   ]
  },
  {
   "cell_type": "code",
   "execution_count": 68,
   "metadata": {},
   "outputs": [
    {
     "name": "stdout",
     "output_type": "stream",
     "text": [
      "5\n",
      "hello\n"
     ]
    }
   ],
   "source": [
    "try:\n",
    "    print(z)\n",
    "except:\n",
    "    print(f'There is an error: {str}')\n",
    "finally:\n",
    "    print(\"hello\")"
   ]
  },
  {
   "cell_type": "markdown",
   "metadata": {},
   "source": [
    "### libraries"
   ]
  },
  {
   "cell_type": "code",
   "execution_count": null,
   "metadata": {},
   "outputs": [],
   "source": [
    "pip install <lib name> # to install the lib"
   ]
  },
  {
   "cell_type": "code",
   "execution_count": 3,
   "metadata": {},
   "outputs": [],
   "source": [
    "import random, matplotlib"
   ]
  },
  {
   "cell_type": "code",
   "execution_count": 2,
   "metadata": {},
   "outputs": [
    {
     "data": {
      "text/plain": [
       "10"
      ]
     },
     "execution_count": 2,
     "metadata": {},
     "output_type": "execute_result"
    }
   ],
   "source": [
    "random.randint(10,100)"
   ]
  },
  {
   "cell_type": "code",
   "execution_count": 4,
   "metadata": {},
   "outputs": [],
   "source": [
    "import numpy as np"
   ]
  },
  {
   "cell_type": "code",
   "execution_count": 5,
   "metadata": {},
   "outputs": [],
   "source": [
    "l = [i for i in range(9)]"
   ]
  },
  {
   "cell_type": "code",
   "execution_count": 6,
   "metadata": {},
   "outputs": [
    {
     "data": {
      "text/plain": [
       "[0, 1, 2, 3, 4, 5, 6, 7, 8]"
      ]
     },
     "execution_count": 6,
     "metadata": {},
     "output_type": "execute_result"
    }
   ],
   "source": [
    "l"
   ]
  },
  {
   "cell_type": "code",
   "execution_count": 8,
   "metadata": {},
   "outputs": [],
   "source": [
    "m = np.reshape(l,(3,3))"
   ]
  },
  {
   "cell_type": "code",
   "execution_count": 9,
   "metadata": {},
   "outputs": [
    {
     "data": {
      "text/plain": [
       "array([[0, 1, 2],\n",
       "       [3, 4, 5],\n",
       "       [6, 7, 8]])"
      ]
     },
     "execution_count": 9,
     "metadata": {},
     "output_type": "execute_result"
    }
   ],
   "source": [
    "m"
   ]
  },
  {
   "cell_type": "code",
   "execution_count": 10,
   "metadata": {},
   "outputs": [
    {
     "data": {
      "text/plain": [
       "array([0, 1, 2])"
      ]
     },
     "execution_count": 10,
     "metadata": {},
     "output_type": "execute_result"
    }
   ],
   "source": [
    "m[0] # row"
   ]
  },
  {
   "cell_type": "code",
   "execution_count": 11,
   "metadata": {},
   "outputs": [
    {
     "data": {
      "text/plain": [
       "array([0, 3, 6])"
      ]
     },
     "execution_count": 11,
     "metadata": {},
     "output_type": "execute_result"
    }
   ],
   "source": [
    "m[:,0] # col"
   ]
  },
  {
   "cell_type": "code",
   "execution_count": 12,
   "metadata": {},
   "outputs": [
    {
     "data": {
      "text/plain": [
       "(0, 4, 8)"
      ]
     },
     "execution_count": 12,
     "metadata": {},
     "output_type": "execute_result"
    }
   ],
   "source": [
    "m[0][0],m[1][1],m[2][2]"
   ]
  },
  {
   "cell_type": "code",
   "execution_count": 14,
   "metadata": {},
   "outputs": [],
   "source": [
    "from math import cos,sin,sqrt, factorial\n",
    "from sklearn.linear_model import LinearRegression"
   ]
  },
  {
   "cell_type": "code",
   "execution_count": 15,
   "metadata": {},
   "outputs": [
    {
     "data": {
      "text/plain": [
       "4.0"
      ]
     },
     "execution_count": 15,
     "metadata": {},
     "output_type": "execute_result"
    }
   ],
   "source": [
    "sqrt(16)"
   ]
  },
  {
   "cell_type": "code",
   "execution_count": 16,
   "metadata": {},
   "outputs": [
    {
     "data": {
      "text/plain": [
       "120"
      ]
     },
     "execution_count": 16,
     "metadata": {},
     "output_type": "execute_result"
    }
   ],
   "source": [
    "factorial(5)"
   ]
  },
  {
   "cell_type": "code",
   "execution_count": 17,
   "metadata": {},
   "outputs": [],
   "source": [
    "from random import *"
   ]
  },
  {
   "cell_type": "code",
   "execution_count": 18,
   "metadata": {},
   "outputs": [
    {
     "data": {
      "text/plain": [
       "8"
      ]
     },
     "execution_count": 18,
     "metadata": {},
     "output_type": "execute_result"
    }
   ],
   "source": [
    "choice(l)"
   ]
  },
  {
   "cell_type": "code",
   "execution_count": 19,
   "metadata": {},
   "outputs": [
    {
     "ename": "ModuleNotFoundError",
     "evalue": "No module named 'customLibs'",
     "output_type": "error",
     "traceback": [
      "\u001b[0;31m---------------------------------------------------------------------------\u001b[0m",
      "\u001b[0;31mModuleNotFoundError\u001b[0m                       Traceback (most recent call last)",
      "\u001b[0;32m<ipython-input-19-2f4df757a76b>\u001b[0m in \u001b[0;36m<module>\u001b[0;34m\u001b[0m\n\u001b[0;32m----> 1\u001b[0;31m \u001b[0;32mfrom\u001b[0m \u001b[0mcustomLibs\u001b[0m \u001b[0;32mimport\u001b[0m \u001b[0mhello\u001b[0m\u001b[0;34m\u001b[0m\u001b[0;34m\u001b[0m\u001b[0m\n\u001b[0m",
      "\u001b[0;31mModuleNotFoundError\u001b[0m: No module named 'customLibs'"
     ]
    }
   ],
   "source": [
    "from customLibs import hello"
   ]
  },
  {
   "cell_type": "markdown",
   "metadata": {},
   "source": [
    "### oops"
   ]
  },
  {
   "cell_type": "code",
   "execution_count": 21,
   "metadata": {},
   "outputs": [],
   "source": [
    "def getInput():\n",
    "    name = input('Enter your name: ')\n",
    "    mobile = input('Enter your number: ')\n",
    "    return name, mobile\n",
    "\n",
    "def display(name, mobile):\n",
    "    print(f'Entered Name and Mobile : {name} and {mobile}')"
   ]
  },
  {
   "cell_type": "code",
   "execution_count": 22,
   "metadata": {},
   "outputs": [
    {
     "name": "stdout",
     "output_type": "stream",
     "text": [
      "Enter your name: abc\n",
      "Enter your number: 123\n",
      "Entered Name and Mobile : abc and 123\n"
     ]
    }
   ],
   "source": [
    "name, mob = getInput()\n",
    "display(name, mob)"
   ]
  },
  {
   "cell_type": "code",
   "execution_count": 24,
   "metadata": {},
   "outputs": [],
   "source": [
    "class Testing:\n",
    "    def getInput(self):\n",
    "        self.name = input('Enter your name: ')\n",
    "        self.mobile = input('Enter your number: ')\n",
    "\n",
    "    def display(self):\n",
    "        print(f'Entered Name and Mobile : {self.name} and {self.mobile}')"
   ]
  },
  {
   "cell_type": "code",
   "execution_count": 26,
   "metadata": {},
   "outputs": [],
   "source": [
    "test = Testing()"
   ]
  },
  {
   "cell_type": "code",
   "execution_count": 27,
   "metadata": {},
   "outputs": [
    {
     "name": "stdout",
     "output_type": "stream",
     "text": [
      "Enter your name: qwerty\n",
      "Enter your number: 852\n"
     ]
    }
   ],
   "source": [
    "test.getInput()"
   ]
  },
  {
   "cell_type": "code",
   "execution_count": 28,
   "metadata": {},
   "outputs": [
    {
     "name": "stdout",
     "output_type": "stream",
     "text": [
      "Entered Name and Mobile : abc and 852\n"
     ]
    }
   ],
   "source": [
    "test.display()"
   ]
  },
  {
   "cell_type": "code",
   "execution_count": 29,
   "metadata": {},
   "outputs": [],
   "source": [
    "class Testing:\n",
    "    def _getInput(self):\n",
    "        self.name = input('Enter your name: ')\n",
    "        self.mobile = input('Enter your number: ')\n",
    "\n",
    "    def display(self):\n",
    "        self._getInput()\n",
    "        print(f'Entered Name and Mobile : {self.name} and {self.mobile}')"
   ]
  },
  {
   "cell_type": "code",
   "execution_count": 30,
   "metadata": {},
   "outputs": [],
   "source": [
    "test = Testing()"
   ]
  },
  {
   "cell_type": "code",
   "execution_count": 31,
   "metadata": {},
   "outputs": [
    {
     "name": "stdout",
     "output_type": "stream",
     "text": [
      "Enter your name: apple\n",
      "Enter your number: 741\n",
      "Entered Name and Mobile : apple and 741\n"
     ]
    }
   ],
   "source": [
    "test.display()"
   ]
  },
  {
   "cell_type": "code",
   "execution_count": 46,
   "metadata": {},
   "outputs": [],
   "source": [
    "class cal:\n",
    "    c = 5\n",
    "    def __init__(self):\n",
    "        self.a = float(input(\"A: \"))\n",
    "        self.b = float(input(\"B: \"))\n",
    "    \n",
    "    def add(self):\n",
    "        return self.a+self.b\n",
    "    \n",
    "    def mul(self):\n",
    "        return self.a * self.b * calc.c\n",
    "    \n",
    "    @staticmethod\n",
    "    def sub(k):\n",
    "        return k - calc.c"
   ]
  },
  {
   "cell_type": "code",
   "execution_count": 47,
   "metadata": {},
   "outputs": [
    {
     "data": {
      "text/plain": [
       "5"
      ]
     },
     "execution_count": 47,
     "metadata": {},
     "output_type": "execute_result"
    }
   ],
   "source": [
    "cal.c"
   ]
  },
  {
   "cell_type": "code",
   "execution_count": 44,
   "metadata": {},
   "outputs": [
    {
     "name": "stdout",
     "output_type": "stream",
     "text": [
      "A: 3\n",
      "B: 2\n"
     ]
    }
   ],
   "source": [
    "calc = calc()"
   ]
  },
  {
   "cell_type": "code",
   "execution_count": 35,
   "metadata": {},
   "outputs": [
    {
     "data": {
      "text/plain": [
       "30.0"
      ]
     },
     "execution_count": 35,
     "metadata": {},
     "output_type": "execute_result"
    }
   ],
   "source": [
    "calc.mul()"
   ]
  },
  {
   "cell_type": "code",
   "execution_count": 36,
   "metadata": {},
   "outputs": [
    {
     "data": {
      "text/plain": [
       "5.0"
      ]
     },
     "execution_count": 36,
     "metadata": {},
     "output_type": "execute_result"
    }
   ],
   "source": [
    "calc.add()"
   ]
  },
  {
   "cell_type": "code",
   "execution_count": 45,
   "metadata": {},
   "outputs": [
    {
     "data": {
      "text/plain": [
       "5"
      ]
     },
     "execution_count": 45,
     "metadata": {},
     "output_type": "execute_result"
    }
   ],
   "source": [
    "calc.sub(10)"
   ]
  },
  {
   "cell_type": "code",
   "execution_count": 52,
   "metadata": {},
   "outputs": [],
   "source": [
    "class parent:\n",
    "    def parentMethod(self):\n",
    "        print(self.name)\n",
    "        print(\"i am from parent class\")"
   ]
  },
  {
   "cell_type": "code",
   "execution_count": 56,
   "metadata": {},
   "outputs": [],
   "source": [
    "class child(parent):\n",
    "    def childMethod(self):\n",
    "        self.name = 'sharma'\n",
    "#         parent.parentMethod(self)\n",
    "        self.parentMethod()\n",
    "        print(\"i am from child class\")"
   ]
  },
  {
   "cell_type": "code",
   "execution_count": 57,
   "metadata": {},
   "outputs": [],
   "source": [
    "c = child()"
   ]
  },
  {
   "cell_type": "code",
   "execution_count": 58,
   "metadata": {},
   "outputs": [
    {
     "name": "stdout",
     "output_type": "stream",
     "text": [
      "sharma\n",
      "i am from parent class\n",
      "i am from child class\n"
     ]
    }
   ],
   "source": [
    "c.childMethod()"
   ]
  },
  {
   "cell_type": "code",
   "execution_count": 62,
   "metadata": {},
   "outputs": [
    {
     "name": "stdout",
     "output_type": "stream",
     "text": [
      "   September 2020\n",
      "Su Mo Tu We Th Fr Sa\n",
      "       1  2  3  4  5\n",
      " 6  7  8  9 10 11 12\n",
      "13 14 15 16 17 18 19\n",
      "20 21 22 23 24 25 26\n",
      "27 28 29 30\n",
      "\n"
     ]
    }
   ],
   "source": [
    "import calendar as cal\n",
    "\n",
    "c = cal.TextCalendar(cal.SUNDAY)\n",
    "print(c.formatmonth(2020, 9))"
   ]
  },
  {
   "cell_type": "code",
   "execution_count": 1,
   "metadata": {},
   "outputs": [
    {
     "name": "stdout",
     "output_type": "stream",
     "text": [
      "Enter Player 1 : selection : 1\n",
      "\n",
      "|......|......|......|\n",
      "|   X  |      |      |\n",
      "|......|......|......|\n",
      "|      |      |      |\n",
      "|......|......|......|\n",
      "|      |      |      |\n",
      "|......|......|......|\n",
      "Enter Player 2 : selection : 3\n",
      "\n",
      "|......|......|......|\n",
      "|   X  |      |   O  |\n",
      "|......|......|......|\n",
      "|      |      |      |\n",
      "|......|......|......|\n",
      "|      |      |      |\n",
      "|......|......|......|\n",
      "Enter Player 1 : selection : 5\n",
      "\n",
      "|......|......|......|\n",
      "|   X  |      |   O  |\n",
      "|......|......|......|\n",
      "|      |   X  |      |\n",
      "|......|......|......|\n",
      "|      |      |      |\n",
      "|......|......|......|\n",
      "Enter Player 2 : selection : 5\n",
      "\n",
      "5 is already taken.., Please enter again...\n",
      "Enter Player 2 : selection : 9\n",
      "\n",
      "|......|......|......|\n",
      "|   X  |      |   O  |\n",
      "|......|......|......|\n",
      "|      |   X  |      |\n",
      "|......|......|......|\n",
      "|      |      |   O  |\n",
      "|......|......|......|\n",
      "Enter Player 1 : selection : 6\n",
      "\n",
      "|......|......|......|\n",
      "|   X  |      |   O  |\n",
      "|......|......|......|\n",
      "|      |   X  |   X  |\n",
      "|......|......|......|\n",
      "|      |      |   O  |\n",
      "|......|......|......|\n",
      "Enter Player 2 : selection : 8\n",
      "\n",
      "|......|......|......|\n",
      "|   X  |      |   O  |\n",
      "|......|......|......|\n",
      "|      |   X  |   X  |\n",
      "|......|......|......|\n",
      "|      |   O  |   O  |\n",
      "|......|......|......|\n",
      "Enter Player 1 : selection : 4\n",
      "\n",
      "|......|......|......|\n",
      "|   X  |      |   O  |\n",
      "|......|......|......|\n",
      "|   X  |   X  |   X  |\n",
      "|......|......|......|\n",
      "|      |   O  |   O  |\n",
      "|......|......|......|\n",
      "\n",
      "Player 1 Won...Congratulations!!\n",
      " \n"
     ]
    }
   ],
   "source": [
    "#### tic tac toe \n",
    "\n",
    "import numpy as np\n",
    "\n",
    "\n",
    "def displaySelection(displaySelection):\n",
    "    displayGrid = np.reshape(displaySelection,(3,3))\n",
    "    print(\"\\n|......|......|......|\")\n",
    "    for i in range(3):\n",
    "        print(\"|   \"+ displayGrid[i][0] + \"  |   \" +  displayGrid[i][1] + \"  |   \" + displayGrid[i][2] + \"  |\")\n",
    "        print(\"|......|......|......|\")\n",
    "\n",
    "def getUserInput(who, punchChar, playerSelection): \n",
    "    while True: \n",
    "        userInput = input(f\"Enter {who} selection : \") \n",
    "        if isValid(userInput, playerSelection) == True:             \n",
    "            playerSelection[int(userInput)-1] = punchChar\n",
    "            displayList[int(userInput)-1] = punchChar\n",
    "            break \n",
    "        else: \n",
    "            continue \n",
    "        return playerSelection\n",
    "\n",
    "def isValid(value, playerSelection): \n",
    "    try:         \n",
    "        valid = True\n",
    "        if int(value) > 9: \n",
    "            print(\"\\nSelection > 9 is not allowed, Please enter again...\")\n",
    "            valid = False \n",
    "        elif (int(value) not in playerSelection) :\n",
    "            print(f\"\\n{value} is already taken.., Please enter again...\")\n",
    "            valid = False\n",
    "    except:\n",
    "        print(\"\\nNot a valid input, Please enter again...\")\n",
    "        valid = False\n",
    "    finally:\n",
    "        return valid\n",
    "\n",
    "def isWinner(selection): \n",
    "    resultGrid = np.reshape(selection,(3,3))\n",
    "    win = False\n",
    "    punchChar = \"*\"\n",
    "        \n",
    "    ##diagonal compare \n",
    "    if (win == False) and (resultGrid[0][0] == resultGrid[1][1]) and (resultGrid[0][0] == resultGrid[2][2]):\n",
    "        win = True\n",
    "        punchChar = resultGrid[0][0]\n",
    "    elif (win == False) and (resultGrid[0][0] == resultGrid[1][1]) and (resultGrid[0][0] == resultGrid[2][2]):\n",
    "        win = True\n",
    "        punchChar = resultGrid[0][0]\n",
    "    else: \n",
    "        for index in range(3):\n",
    "            ##row compare\n",
    "            if (resultGrid[index][0] == resultGrid[index][1]) and (resultGrid[index][0] == resultGrid[index][2]): \n",
    "                win = True\n",
    "                punchChar = resultGrid[index][0]\n",
    "                break\n",
    "            ##Col compare\n",
    "            elif (resultGrid[0][index] == resultGrid[1][index]) and (resultGrid[0][index] == resultGrid[2][index]): \n",
    "                win = True\n",
    "                punchChar = resultGrid[0][index]\n",
    "                break\n",
    "    return win, punchChar\n",
    "\n",
    "resultList = [i+1 for i in range(9)]\n",
    "displayList = [' ' for i in range(9)]\n",
    "\n",
    "cnt = 0\n",
    "\n",
    "while True:\n",
    "    getUserInput(\"Player 1 :\", 'X', resultList) \n",
    "    displaySelection(displayList)\n",
    "    cnt = cnt+1\n",
    "    if cnt > 2:\n",
    "        result, punchChar = isWinner(resultList)\n",
    "        if (result == True and punchChar == 'X'):\n",
    "            print(\"\\nPlayer 1 Won...Congratulations!!\\n \")\n",
    "            break\n",
    "    \n",
    "    if cnt > 4: \n",
    "        print(\"\\nIt is a draw!!\\n \")\n",
    "        break\n",
    "    \n",
    "    getUserInput(\"Player 2 :\", 'O', resultList) \n",
    "    displaySelection(displayList)\n",
    "    if cnt > 2:\n",
    "        result, punchChar = isWinner(resultList)\n",
    "        if (result == True and punchChar == 'O'):\n",
    "            print(\"\\nPlayer 2 Won...Congratulations!!\\n \")\n",
    "            break"
   ]
  },
  {
   "cell_type": "code",
   "execution_count": 4,
   "metadata": {},
   "outputs": [
    {
     "name": "stdout",
     "output_type": "stream",
     "text": [
      "[[' ' ' ' ' ']\n",
      " [' ' ' ' ' ']\n",
      " [' ' ' ' ' ']]\n",
      "Enter choice for Player 1:\n",
      "None6\n",
      "[[' ' ' ' ' ']\n",
      " [' ' ' ' '1']\n",
      " [' ' ' ' ' ']]\n",
      "Enter choice for Player 2:\n",
      "Nonec\n"
     ]
    },
    {
     "ename": "ValueError",
     "evalue": "invalid literal for int() with base 10: 'c'",
     "output_type": "error",
     "traceback": [
      "\u001b[0;31m---------------------------------------------------------------------------\u001b[0m",
      "\u001b[0;31mValueError\u001b[0m                                Traceback (most recent call last)",
      "\u001b[0;32m<ipython-input-4-a5463e9a5e79>\u001b[0m in \u001b[0;36m<module>\u001b[0;34m\u001b[0m\n\u001b[1;32m     49\u001b[0m \u001b[0mprint\u001b[0m \u001b[0;34m(\u001b[0m\u001b[0mm\u001b[0m\u001b[0;34m)\u001b[0m\u001b[0;34m\u001b[0m\u001b[0;34m\u001b[0m\u001b[0m\n\u001b[1;32m     50\u001b[0m \u001b[0;32mwhile\u001b[0m \u001b[0;32mTrue\u001b[0m\u001b[0;34m:\u001b[0m\u001b[0;34m\u001b[0m\u001b[0;34m\u001b[0m\u001b[0m\n\u001b[0;32m---> 51\u001b[0;31m     \u001b[0mchoice\u001b[0m \u001b[0;34m=\u001b[0m\u001b[0mint\u001b[0m\u001b[0;34m(\u001b[0m\u001b[0minput\u001b[0m\u001b[0;34m(\u001b[0m\u001b[0mprint\u001b[0m\u001b[0;34m(\u001b[0m\u001b[0;34mf\"Enter choice for Player {player}:\"\u001b[0m\u001b[0;34m)\u001b[0m\u001b[0;34m)\u001b[0m\u001b[0;34m)\u001b[0m\u001b[0;34m\u001b[0m\u001b[0;34m\u001b[0m\u001b[0m\n\u001b[0m\u001b[1;32m     52\u001b[0m     \u001b[0;32mif\u001b[0m \u001b[0;34m(\u001b[0m\u001b[0mchoice\u001b[0m\u001b[0;34m)\u001b[0m \u001b[0;34m>\u001b[0m \u001b[0;36m0\u001b[0m \u001b[0;32mand\u001b[0m \u001b[0;34m(\u001b[0m\u001b[0mchoice\u001b[0m\u001b[0;34m)\u001b[0m \u001b[0;34m<\u001b[0m \u001b[0;36m10\u001b[0m\u001b[0;34m:\u001b[0m\u001b[0;34m\u001b[0m\u001b[0;34m\u001b[0m\u001b[0m\n\u001b[1;32m     53\u001b[0m         \u001b[0mrow\u001b[0m\u001b[0;34m=\u001b[0m \u001b[0mchoice\u001b[0m \u001b[0;34m-\u001b[0m \u001b[0;36m1\u001b[0m\u001b[0;34m\u001b[0m\u001b[0;34m\u001b[0m\u001b[0m\n",
      "\u001b[0;31mValueError\u001b[0m: invalid literal for int() with base 10: 'c'"
     ]
    }
   ],
   "source": [
    "import numpy as np\n",
    "l = [' ' for i in range(9)]\n",
    "m= np.reshape(l,(3,3))\n",
    "player = 1\n",
    "\n",
    "def checkhorizontal():\n",
    "    ##print('in horizontal')\n",
    "    for i in range(m.shape[0]):\n",
    "        if ' ' in m[i]:\n",
    "            continue\n",
    "        elif np.all(m[i]==m[i][0]):\n",
    "            return True\n",
    "        else:\n",
    "            return False      \n",
    "    ##print('horizontal exit')\n",
    "    return False        \n",
    "\n",
    "def checkvertical():\n",
    "##print('in vertical')\n",
    "    t = m.T\n",
    "    for i in range(t.shape[0]):\n",
    "        if ' ' in t[i]:\n",
    "            continue\n",
    "        if np.all(t[i]==t[i][0]):\n",
    "            return True\n",
    "        else:\n",
    "            return False      \n",
    "    ##print('vertical exit')\n",
    "    return False        \n",
    "\n",
    "def checkdiagonal():\n",
    "   ## print('in diagonal')\n",
    "    d = m.diagonal(0,0,1)\n",
    "   ## print(d)\n",
    "    if ' ' in d:\n",
    "        return False\n",
    "    elif np.all(d==d[0]):\n",
    "        return True\n",
    "    else:\n",
    "        d = np.fliplr(m).diagonal()\n",
    "        if ' ' in d:\n",
    "            return False\n",
    "        elif np.all(d==d[0]):\n",
    "            return True\n",
    "        else:\n",
    "            return False\n",
    "    \n",
    "\n",
    "print (m)\n",
    "while True:\n",
    "    choice =int(input(print(f\"Enter choice for Player {player}:\")))\n",
    "    if (choice) > 0 and (choice) < 10:\n",
    "        row= choice - 1\n",
    "        if row == 0:\n",
    "            row = 1\n",
    "        row = int(row/3)\n",
    "        col = choice% 3\n",
    "        ##print (f'row:{row}')\n",
    "        ##print (f'col:{col}')\n",
    "        if  m[row][col-1] != ' ':\n",
    "            print(f\"Already filled\")\n",
    "            continue\n",
    "        m[row][col-1] = player\n",
    "        print (m)\n",
    "        if checkhorizontal() or checkvertical() or checkdiagonal():\n",
    "            print(f\"Player {player} won\")\n",
    "            break\n",
    "        if ' ' not in m:\n",
    "            print(f\"Game Over. Better luck next time\")\n",
    "            break\n",
    "    if player == 1:\n",
    "        player = 2\n",
    "    else:\n",
    "        player = 1\n"
   ]
  },
  {
   "cell_type": "code",
   "execution_count": null,
   "metadata": {},
   "outputs": [],
   "source": [
    "file handling\n",
    "visualization\n",
    "\n",
    "\n",
    "API"
   ]
  },
  {
   "cell_type": "code",
   "execution_count": 8,
   "metadata": {},
   "outputs": [
    {
     "data": {
      "text/plain": [
       "2"
      ]
     },
     "execution_count": 8,
     "metadata": {},
     "output_type": "execute_result"
    }
   ],
   "source": [
    "len(set(['x','x',' ']))"
   ]
  },
  {
   "cell_type": "code",
   "execution_count": null,
   "metadata": {},
   "outputs": [],
   "source": [
    "class tic_tac_toe:\n",
    "\n",
    "import numpy as np\n",
    "\n",
    "def __init__(self):\n",
    "    self.resultList = [i+1 for i in range(9)]\n",
    "    self.displayList = [ ' ' for i in range(9)]\n",
    "    \n",
    "\n",
    "def displaySelection(b):\n",
    "    displayGrid = np.reshape(displaySelection,(3,3))\n",
    "    print(\"\\n|......|......|......|\")\n",
    "    for i in range(3):\n",
    "        print(\"|   \"+ displayGrid[i][0] + \"  |   \" +  displayGrid[i][1] + \"  |   \" + displayGrid[i][2] + \"  |\")\n",
    "        print(\"|......|......|......|\")\n",
    "\n",
    "\n",
    "def getSelection(who, punchChar): \n",
    "    while True: \n",
    "        userInput = input(f\"Enter {who} selection : \") \n",
    "        if isValid(userInput, self.resultList) == True:             \n",
    "            self.resultList[int(userInput)-1] = punchChar\n",
    "            self.displayList[int(userInput)-1] = punchChar\n",
    "            break \n",
    "        else: \n",
    "            continue \n",
    "\n",
    "def isValid(value): \n",
    "    try:         \n",
    "        valid = True\n",
    "        if int(value) > 9: \n",
    "            print(\"\\nSelection > 9 is not allowed, Please enter again...\")\n",
    "            valid = False \n",
    "        elif (int(value) not in self.resultList) :\n",
    "            print(f\"\\n{value} is already taken.., Please enter again...\")\n",
    "            valid = False\n",
    "    except:\n",
    "        print(\"\\nNot a valid input, Please enter again...\")\n",
    "        valid = False\n",
    "    finally:\n",
    "        return valid\n",
    "\n",
    "def getWinner(): \n",
    "    resultGrid = np.reshape(self.resultList,(3,3))\n",
    "    isWin = False\n",
    "        \n",
    "    ##diagonal compare \n",
    "    if (isWin == False) and (resultGrid[0][0] == resultGrid[1][1]) and (resultGrid[0][0] == resultGrid[2][2]):\n",
    "        isWin = True\n",
    "    elif (isWin == False) and (resultGrid[2][0] == resultGrid[1][1]) and (resultGrid[2][0] == resultGrid[2][2]):\n",
    "        isWin = True\n",
    "    else: \n",
    "        for index in range(3):\n",
    "            ##row compare\n",
    "            if (resultGrid[index][0] == resultGrid[index][1]) and (resultGrid[index][0] == resultGrid[index][2]): \n",
    "                isWin = True\n",
    "                break\n",
    "            ##Col compare\n",
    "            elif (resultGrid[0][index] == resultGrid[1][index]) and (resultGrid[0][index] == resultGrid[2][index]): \n",
    "                isWin = True\n",
    "                break\n",
    "    return isWin"
   ]
  },
  {
   "cell_type": "code",
   "execution_count": null,
   "metadata": {},
   "outputs": [],
   "source": [
    "from filename import class/functionName"
   ]
  },
  {
   "cell_type": "code",
   "execution_count": null,
   "metadata": {},
   "outputs": [],
   "source": [
    "from tic_tac_toe  import c\n",
    "cnt = 0\n",
    "\n",
    "while True:\n",
    "    t.getSelection(\"Player 1 :\", 'X') \n",
    "    t.displaySelection()\n",
    "    cnt = cnt+1\n",
    "    if cnt > 2:\n",
    "        result = getWinner()\n",
    "        if (result == True and punchChar == 'X'):\n",
    "            print(\"\\nPlayer 1 Won...Congratulations!!\\n \")\n",
    "            break\n",
    "    \n",
    "    if cnt > 4: \n",
    "        print(\"\\nIt is a draw!!\\n \")\n",
    "        break\n",
    "    \n",
    "    t.getSelection(\"Player 2 :\", 'O') \n",
    "    t.displaySelection()\n",
    "    if cnt > 2:\n",
    "        result = getWinner()\n",
    "        if (result == True and punchChar == 'O'):\n",
    "            print(\"\\nPlayer 2 Won...Congratulations!!\\n \")\n",
    "            break"
   ]
  },
  {
   "cell_type": "markdown",
   "metadata": {},
   "source": [
    "### visualization"
   ]
  },
  {
   "cell_type": "code",
   "execution_count": null,
   "metadata": {},
   "outputs": [],
   "source": [
    "matplotlib\n",
    "seaborn"
   ]
  },
  {
   "cell_type": "code",
   "execution_count": 9,
   "metadata": {},
   "outputs": [],
   "source": [
    "x = list(range(1,6))\n",
    "y = [i**2 for i in x]\n",
    "y2 = [i**3 for i in x]"
   ]
  },
  {
   "cell_type": "code",
   "execution_count": 12,
   "metadata": {},
   "outputs": [
    {
     "data": {
      "text/plain": [
       "[1, 4, 9, 16, 25]"
      ]
     },
     "execution_count": 12,
     "metadata": {},
     "output_type": "execute_result"
    }
   ],
   "source": [
    "y"
   ]
  },
  {
   "cell_type": "code",
   "execution_count": null,
   "metadata": {},
   "outputs": [],
   "source": [
    "line chart\n",
    "scatter\n",
    "bar\n",
    "pie\n",
    "histogram"
   ]
  },
  {
   "cell_type": "code",
   "execution_count": 13,
   "metadata": {},
   "outputs": [],
   "source": [
    "import matplotlib.pyplot as plt"
   ]
  },
  {
   "cell_type": "code",
   "execution_count": 16,
   "metadata": {},
   "outputs": [
    {
     "data": {
      "image/png": "[encoded data removed]",
      "text/plain": [
       "<Figure size 432x288 with 1 Axes>"
      ]
     },
     "metadata": {},
     "output_type": "display_data"
    }
   ],
   "source": [
    "plt.plot(x,y,color='r',ls='--',marker='o',lineWidth=2)\n",
    "plt.show()"
   ]
  },
  {
   "cell_type": "code",
   "execution_count": 18,
   "metadata": {},
   "outputs": [
    {
     "data": {
      "image/png": "[encoded data removed]",
      "text/plain": [
       "<Figure size 432x288 with 1 Axes>"
      ]
     },
     "metadata": {},
     "output_type": "display_data"
    }
   ],
   "source": [
    "# figure-1, plot-1,graph-1\n",
    "plt.plot(x,y,'g--p')\n",
    "plt.show()"
   ]
  },
  {
   "cell_type": "code",
   "execution_count": 19,
   "metadata": {},
   "outputs": [
    {
     "data": {
      "image/png": "[encoded data removed]",
      "text/plain": [
       "<Figure size 432x288 with 1 Axes>"
      ]
     },
     "metadata": {},
     "output_type": "display_data"
    }
   ],
   "source": [
    "# figure-1, plot-1,graph-2\n",
    "plt.plot(x,y,'g--p',x,y2,'y-.v')\n",
    "plt.show()"
   ]
  },
  {
   "cell_type": "code",
   "execution_count": 21,
   "metadata": {},
   "outputs": [
    {
     "data": {
      "image/png": "[encoded data removed]",
      "text/plain": [
       "<Figure size 432x288 with 1 Axes>"
      ]
     },
     "metadata": {},
     "output_type": "display_data"
    }
   ],
   "source": [
    "# figure-1, plot-1,graph-1\n",
    "plt.plot(x,y,'g--p')\n",
    "plt.xlabel(\"X\")\n",
    "plt.ylabel(\"X^2\")\n",
    "plt.title(\"Simple line chart\")\n",
    "plt.grid()\n",
    "plt.show()"
   ]
  },
  {
   "cell_type": "code",
   "execution_count": 22,
   "metadata": {},
   "outputs": [
    {
     "data": {
      "image/png": "[encoded data removed]",
      "text/plain": [
       "<Figure size 432x288 with 1 Axes>"
      ]
     },
     "metadata": {},
     "output_type": "display_data"
    }
   ],
   "source": [
    "# figure-1, plot-1,graph-1\n",
    "plt.plot(x,y,'g--p')\n",
    "plt.xlabel(\"X\")\n",
    "plt.xlim([1,6])\n",
    "plt.ylabel(\"X^2\")\n",
    "plt.title(\"Simple line chart\")\n",
    "plt.show()"
   ]
  },
  {
   "cell_type": "code",
   "execution_count": 23,
   "metadata": {},
   "outputs": [
    {
     "data": {
      "image/png": "[encoded data removed]",
      "text/plain": [
       "<Figure size 432x288 with 1 Axes>"
      ]
     },
     "metadata": {},
     "output_type": "display_data"
    }
   ],
   "source": [
    "# figure-1, plot-1,graph-1\n",
    "plt.plot(x,y,'g--p')\n",
    "plt.xlabel(\"X\")\n",
    "plt.ylim([1,30])\n",
    "plt.ylabel(\"X^2\")\n",
    "plt.title(\"Simple line chart\")\n",
    "plt.show()"
   ]
  },
  {
   "cell_type": "code",
   "execution_count": 24,
   "metadata": {},
   "outputs": [
    {
     "data": {
      "image/png": "[encoded data removed]",
      "text/plain": [
       "<Figure size 432x288 with 1 Axes>"
      ]
     },
     "metadata": {},
     "output_type": "display_data"
    }
   ],
   "source": [
    "# figure-1, plot-1,graph-1\n",
    "plt.plot(x,y,'g--p')\n",
    "plt.xlabel(\"X\")\n",
    "plt.axis([0,6,1,27])\n",
    "plt.ylabel(\"X^2\")\n",
    "plt.title(\"Simple line chart\")\n",
    "plt.show()"
   ]
  },
  {
   "cell_type": "code",
   "execution_count": 25,
   "metadata": {},
   "outputs": [
    {
     "data": {
      "image/png": "[encoded data removed]",
      "text/plain": [
       "<Figure size 432x288 with 1 Axes>"
      ]
     },
     "metadata": {},
     "output_type": "display_data"
    }
   ],
   "source": [
    "# figure-1, plot-1,graph-2\n",
    "plt.plot(x,y,'g--p',x,y2,'y-.v')\n",
    "plt.title(\"Simple line chart\")\n",
    "plt.xlabel(\"X\")\n",
    "plt.ylabel('Y')\n",
    "plt.legend(['X vs X^2','X vs X^3'])\n",
    "plt.show()"
   ]
  },
  {
   "cell_type": "code",
   "execution_count": 27,
   "metadata": {},
   "outputs": [
    {
     "data": {
      "image/png": "[encoded data removed]",
      "text/plain": [
       "<Figure size 720x360 with 1 Axes>"
      ]
     },
     "metadata": {},
     "output_type": "display_data"
    },
    {
     "data": {
      "image/png": "[encoded data removed]",
      "text/plain": [
       "<Figure size 432x288 with 1 Axes>"
      ]
     },
     "metadata": {},
     "output_type": "display_data"
    }
   ],
   "source": [
    "# figure-2, plot-2,graph-2\n",
    "plt.figure(1, figsize=(10,5))\n",
    "plt.plot(x,y,'g--p')\n",
    "plt.title(\"Simple line chart\")\n",
    "plt.xlabel(\"X\")\n",
    "plt.ylabel('Y')\n",
    "\n",
    "plt.figure(2)\n",
    "plt.plot(x,y2,'y-.v')\n",
    "plt.xlabel(\"X\")\n",
    "plt.ylabel('Y')\n",
    "plt.show()"
   ]
  },
  {
   "cell_type": "code",
   "execution_count": 28,
   "metadata": {},
   "outputs": [
    {
     "data": {
      "image/png": "[encoded data removed]",
      "text/plain": [
       "<Figure size 432x288 with 2 Axes>"
      ]
     },
     "metadata": {},
     "output_type": "display_data"
    }
   ],
   "source": [
    "# figure-1, plot-2, graph-2\n",
    "plt.subplot(211)\n",
    "plt.plot(x,y,'g--p')\n",
    "plt.title(\"Simple line chart\")\n",
    "plt.ylabel('X vs X^2')\n",
    "plt.subplot(212)\n",
    "plt.plot(x,y2,'y-.v')\n",
    "\n",
    "plt.xlabel(\"X\")\n",
    "plt.ylabel('X vs X^3')\n",
    "plt.show()"
   ]
  },
  {
   "cell_type": "code",
   "execution_count": 32,
   "metadata": {},
   "outputs": [
    {
     "data": {
      "image/png": "[encoded data removed]",
      "text/plain": [
       "<Figure size 432x288 with 2 Axes>"
      ]
     },
     "metadata": {},
     "output_type": "display_data"
    }
   ],
   "source": [
    "# figure-1, plot-2, graph-2\n",
    "plt.subplot(221)\n",
    "plt.plot(x,y,'g--p')\n",
    "plt.title(\"Simple line chart\")\n",
    "plt.ylabel('X vs X^2')\n",
    "plt.subplot(224)\n",
    "plt.plot(x,y2,'y-.v')\n",
    "\n",
    "plt.xlabel(\"X\")\n",
    "plt.ylabel('X vs X^3')\n",
    "\n",
    "plt.savefig(\"AI_US_2020.png\",transparent=True)\n",
    "\n",
    "from matplotlib.backends.backend_pdf import PdfPages\n",
    "\n",
    "pp = PdfPages('AI_US_2020.pdf')\n",
    "pp.savefig()\n",
    "pp.close()\n",
    "plt.show()"
   ]
  },
  {
   "cell_type": "code",
   "execution_count": 43,
   "metadata": {},
   "outputs": [
    {
     "data": {
      "image/png": "[encoded data removed]",
      "text/plain": [
       "<Figure size 432x288 with 1 Axes>"
      ]
     },
     "metadata": {},
     "output_type": "display_data"
    }
   ],
   "source": [
    "plt.scatter(x,y,color='g', marker='^', s=48)\n",
    "plt.show()"
   ]
  },
  {
   "cell_type": "code",
   "execution_count": 46,
   "metadata": {},
   "outputs": [
    {
     "data": {
      "image/png": "[encoded data removed]",
      "text/plain": [
       "<Figure size 432x288 with 1 Axes>"
      ]
     },
     "metadata": {},
     "output_type": "display_data"
    }
   ],
   "source": [
    "plt.plot(x,y,'gv')\n",
    "plt.show()"
   ]
  },
  {
   "cell_type": "code",
   "execution_count": 47,
   "metadata": {},
   "outputs": [],
   "source": [
    "x = ['apple','mango','orange']\n",
    "y = [23,26,21]"
   ]
  },
  {
   "cell_type": "code",
   "execution_count": 49,
   "metadata": {},
   "outputs": [
    {
     "data": {
      "image/png": "[encoded data removed]",
      "text/plain": [
       "<Figure size 432x288 with 1 Axes>"
      ]
     },
     "metadata": {},
     "output_type": "display_data"
    }
   ],
   "source": [
    "plt.bar(x,y, faceColor=\"#4525AB\")\n",
    "plt.show()"
   ]
  },
  {
   "cell_type": "code",
   "execution_count": 50,
   "metadata": {},
   "outputs": [
    {
     "data": {
      "image/png": "[encoded data removed]",
      "text/plain": [
       "<Figure size 432x288 with 1 Axes>"
      ]
     },
     "metadata": {},
     "output_type": "display_data"
    }
   ],
   "source": [
    "plt.barh(x,y, faceColor=\"#4525AB\")\n",
    "plt.show()"
   ]
  },
  {
   "cell_type": "code",
   "execution_count": 55,
   "metadata": {},
   "outputs": [
    {
     "data": {
      "image/png": "[encoded data removed]",
      "text/plain": [
       "<Figure size 432x288 with 1 Axes>"
      ]
     },
     "metadata": {},
     "output_type": "display_data"
    }
   ],
   "source": [
    "plt.pie(y,labels=x,labeldistance=0.5)\n",
    "plt.show()"
   ]
  },
  {
   "cell_type": "code",
   "execution_count": 56,
   "metadata": {},
   "outputs": [
    {
     "data": {
      "image/png": "[encoded data removed]",
      "text/plain": [
       "<Figure size 432x288 with 1 Axes>"
      ]
     },
     "metadata": {},
     "output_type": "display_data"
    }
   ],
   "source": [
    "plt.pie(y,labels=x,labeldistance=0.5,explode=[0,0,0.1])\n",
    "plt.show()"
   ]
  },
  {
   "cell_type": "code",
   "execution_count": 57,
   "metadata": {},
   "outputs": [],
   "source": [
    "from random import randint"
   ]
  },
  {
   "cell_type": "code",
   "execution_count": 60,
   "metadata": {},
   "outputs": [],
   "source": [
    "x = [randint(1,5) for _ in range(10)]"
   ]
  },
  {
   "cell_type": "code",
   "execution_count": 61,
   "metadata": {},
   "outputs": [
    {
     "data": {
      "text/plain": [
       "[4, 3, 3, 1, 3, 5, 2, 3, 5, 2]"
      ]
     },
     "execution_count": 61,
     "metadata": {},
     "output_type": "execute_result"
    }
   ],
   "source": [
    "x"
   ]
  },
  {
   "cell_type": "code",
   "execution_count": 63,
   "metadata": {},
   "outputs": [
    {
     "data": {
      "image/png": "[encoded data removed]",
      "text/plain": [
       "<Figure size 432x288 with 1 Axes>"
      ]
     },
     "metadata": {},
     "output_type": "display_data"
    }
   ],
   "source": [
    "plt.hist(x,bins=30)\n",
    "plt.show()"
   ]
  },
  {
   "cell_type": "code",
   "execution_count": null,
   "metadata": {},
   "outputs": [],
   "source": []
  }
 ],
 "metadata": {
  "kernelspec": {
   "display_name": "Python 3",
   "language": "python",
   "name": "python3"
  },
  "language_info": {
   "codemirror_mode": {
    "name": "ipython",
    "version": 3
   },
   "file_extension": ".py",
   "mimetype": "text/x-python",
   "name": "python",
   "nbconvert_exporter": "python",
   "pygments_lexer": "ipython3",
   "version": "3.6.9"
  },
  "toc": {
   "base_numbering": 1,
   "nav_menu": {},
   "number_sections": true,
   "sideBar": true,
   "skip_h1_title": false,
   "title_cell": "Table of Contents",
   "title_sidebar": "Contents",
   "toc_cell": false,
   "toc_position": {},
   "toc_section_display": true,
   "toc_window_display": false
  },
  "varInspector": {
   "cols": {
    "lenName": 16,
    "lenType": 16,
    "lenVar": 40
   },
   "kernels_config": {
    "python": {
     "delete_cmd_postfix": "",
     "delete_cmd_prefix": "del ",
     "library": "var_list.py",
     "varRefreshCmd": "print(var_dic_list())"
    },
    "r": {
     "delete_cmd_postfix": ") ",
     "delete_cmd_prefix": "rm(",
     "library": "var_list.r",
     "varRefreshCmd": "cat(var_dic_list()) "
    }
   },
   "types_to_exclude": [
    "module",
    "function",
    "builtin_function_or_method",
    "instance",
    "_Feature"
   ],
   "window_display": false
  }
 },
 "nbformat": 4,
 "nbformat_minor": 2
}
